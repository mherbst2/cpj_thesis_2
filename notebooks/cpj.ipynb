{
 "cells": [
  {
   "cell_type": "markdown",
   "metadata": {},
   "source": [
    "# Seeking Truth in A Time of War\n",
    "\n",
    "TK: Brief overview of the thesis idea (a few shorts paragraphs). Include links and brief desription of the data source(s) used in the the notebook's analysis.\n",
    "\n",
    "List of findings (based on your QQs):\n",
    "\n",
    "- The number of journalists killed since 1992 was 1,687 journalists.\n",
    "- The number of journalists killed since Oct. 7, 2023 was 159 journalists in the Israel-Palestine Conflict.\n",
    "- The number of freelance journalists killed was 47 journalists since Oct. 7, 2023 in the Israel-Palestine Conflict.\n",
    "- The year that had the highest number of deaths was 2024 with 76 deaths. \n",
    "- On a global level, the location that experienced the highest number of journalist deaths was Iraq with 193 deaths. The second was the Israel and the Occupied Palestinian Territory with 178 deaths.\n",
    "- \n",
    "-\n",
    "\n",
    "Main questions:\n",
    "- What was the number of journalists killed since 1992-2025?\n",
    "- What was the number of journalists killed since Oct. 7, 2023 attacks?\n",
    "    - What was the number of freelance journalists killed since Oct. 7, 2023 attacks? Are more freelancers dying than those that work for a news org? And if so, why? For example, do they tend to have fewer resources for navigating war zones (e.g. war zone handlers who are typically natives of the area that help journalists more safely nagivate war zones)\n",
    "- Which months had the largest numbers of deaths between late 2023 and May 2025 2023-2025? Why? - ie tie spikes in data to specific conflicts (before and after), deaths over number of years, few years prior and after\n",
    "- Which countries (or conflicts) have experienced the highest number of journalist deaths?\n",
    "- How many journalists were killed reporting from civilian versus active combat zones during the conflict?\n",
    "- Which news orgs lost the most journalists?\n",
    "- What are the age and gender demographics of journalists being killed?\n",
    "- How many journalists died under each category (crossfire, crossfire/combat related, dangerous assignment, murder, unknown) from 2023-2025?\n",
    "- Which category accounted for the highest number of journalist deaths over 2023-2025?\n",
    "-journalist deaths prior and post oct. 7th - global level and israel/palestine territory, how it compares to other conflicts"
   ]
  },
  {
   "cell_type": "code",
   "execution_count": 30,
   "metadata": {},
   "outputs": [],
   "source": [
    "import pandas as pd\n",
    "from vega_datasets import data\n",
    "import altair as alt\n",
    "import numpy as np\n",
    "import datetime\n",
    "import os\n",
    "from pathlib import Path\n",
    "pd.set_option('display.max_columns', None)"
   ]
  },
  {
   "cell_type": "code",
   "execution_count": 31,
   "metadata": {},
   "outputs": [],
   "source": [
    "# Get the current working directory \n",
    "current_directory = Path(os.getcwd()).resolve()"
   ]
  },
  {
   "cell_type": "code",
   "execution_count": 32,
   "metadata": {},
   "outputs": [],
   "source": [
    "DATA_DIR = current_directory.parent.joinpath('data')\n",
    "DATA_DIR.mkdir(parents=True, exist_ok=True)"
   ]
  },
  {
   "cell_type": "code",
   "execution_count": 33,
   "metadata": {},
   "outputs": [],
   "source": [
    "# Load the data\n",
    "csv_file = DATA_DIR / \"cpj_data.csv\" # Combine path and file name\n",
    "cpj = pd.read_csv(csv_file)"
   ]
  },
  {
   "cell_type": "code",
   "execution_count": 34,
   "metadata": {},
   "outputs": [
    {
     "name": "stdout",
     "output_type": "stream",
     "text": [
      "Unique values in the 'location' column: ['Afghanistan' 'Ethiopia' 'Syria'\n",
      " 'Israel and the Occupied Palestinian Territory' 'Algeria' 'Iraq' 'Libya'\n",
      " 'Somalia' 'Pakistan' 'Bangladesh' 'South Africa' 'Sierra Leone' 'Yemen'\n",
      " 'Russia' 'India' 'South Sudan' 'USA' 'Azerbaijan' 'Peru'\n",
      " 'Democratic Republic of the Congo' 'Mexico' 'East Timor' 'Egypt'\n",
      " 'Lebanon' 'Ghana' 'Bahrain' 'Maldives' 'Turkey' 'Sri Lanka' 'Sudan'\n",
      " 'Angola' 'Mozambique' 'Belarus' 'Philippines' 'Central African Republic'\n",
      " 'Bosnia' 'Georgia' 'Burundi' 'Colombia' 'El Salvador' 'Indonesia'\n",
      " 'Kyrgyzstan' 'Rwanda' 'Ukraine' 'Madagascar' 'Nicaragua' 'Ivory Coast'\n",
      " 'Brazil' 'Thailand' 'Myanmar' 'Serbia' 'Nigeria' 'France' 'Nepal'\n",
      " 'Canada' 'Haiti' 'Ecuador' 'Honduras' 'Bolivia' 'Cambodia' 'Gambia'\n",
      " 'Barbados' 'Mali' 'Guatemala' 'Malta' 'Panama' 'Tanzania' 'Burkina Faso'\n",
      " 'Montenegro' 'Iran' 'Paraguay' 'Zimbabwe' 'Guinea' 'Chad'\n",
      " 'Republic of Congo' 'China' 'Eritrea' 'Tajikistan' 'Kenya' 'Chile'\n",
      " 'Yugoslavia' 'Kazakhstan' 'Cameroon' 'Greece' 'Latvia' 'Croatia'\n",
      " 'Saudi Arabia' 'Slovakia' 'Poland' 'Uganda' 'Venezuela'\n",
      " 'Dominican Republic' 'Argentina' 'Spain' 'Uruguay' 'Denmark' 'Cyprus'\n",
      " 'Tunisia' 'UK' 'Turkmenistan' 'Costa Rica' 'Papua New Guinea' 'Lesotho'\n",
      " 'Japan' 'Ireland' 'Lithuania']\n"
     ]
    }
   ],
   "source": [
    "#Check categorical values like the location column to see if their are any missing values\n",
    "print(\"Unique values in the 'location' column:\", cpj['location'].unique())"
   ]
  },
  {
   "cell_type": "code",
   "execution_count": 35,
   "metadata": {},
   "outputs": [
    {
     "name": "stdout",
     "output_type": "stream",
     "text": [
      "Missing values in the 'location' column: 0\n"
     ]
    }
   ],
   "source": [
    "#Check for missing values in the location column\n",
    "print(\"Missing values in the 'location' column:\", cpj['location'].isnull().sum())"
   ]
  },
  {
   "cell_type": "markdown",
   "metadata": {},
   "source": [
    "## Data Quality Assessments"
   ]
  },
  {
   "cell_type": "code",
   "execution_count": 36,
   "metadata": {},
   "outputs": [
    {
     "name": "stdout",
     "output_type": "stream",
     "text": [
      "Total number of rows in the dataset: 1687\n"
     ]
    }
   ],
   "source": [
    "#Check row counts if that makes sense (and compare to what is on the source agency site)\n",
    "print(\"Total number of rows in the dataset:\", cpj.shape[0])"
   ]
  },
  {
   "cell_type": "code",
   "execution_count": 37,
   "metadata": {},
   "outputs": [
    {
     "name": "stdout",
     "output_type": "stream",
     "text": [
      "Column names in the dataset: ['fullName', 'organizations', 'location', 'status', 'typeOfDeath', 'startDisplay', 'mtpage', 'type', 'motiveConfirmed', 'charges']\n"
     ]
    }
   ],
   "source": [
    "#Get the column names\n",
    "print(\"Column names in the dataset:\", cpj.columns.tolist())"
   ]
  },
  {
   "cell_type": "code",
   "execution_count": 38,
   "metadata": {},
   "outputs": [],
   "source": [
    "#Change startDisplay column name to \"Date\"\n",
    "cpj = cpj.rename(columns={'startDisplay': 'Date'})\n",
    "#Convert the Date column to datetime format\n",
    "cpj['Date'] = pd.to_datetime(cpj['Date'], errors='coerce')"
   ]
  },
  {
   "cell_type": "code",
   "execution_count": 39,
   "metadata": {},
   "outputs": [
    {
     "name": "stdout",
     "output_type": "stream",
     "text": [
      "First few rows of the dataset with formatted Date column:\n",
      "         Date                                       location\n",
      "0  2018-04-30                                    Afghanistan\n",
      "1  1998-02-09                                       Ethiopia\n",
      "2  2012-12-21                                          Syria\n",
      "3  2023-12-18  Israel and the Occupied Palestinian Territory\n",
      "4  1996-02-10                                        Algeria\n"
     ]
    }
   ],
   "source": [
    "cpj['Year'] = cpj['Date'].dt.strftime('%Y')\n",
    "cpj['Date'] = cpj['Date'].dt.strftime('%Y-%m-%d')  # Format the date as YYYY-MM-DD\n",
    "# Check if the Date column is in the correct format\n",
    "print(\"First few rows of the dataset with formatted Date column:\")\n",
    "print(cpj[['Date', 'location']].head())"
   ]
  },
  {
   "cell_type": "code",
   "execution_count": 40,
   "metadata": {},
   "outputs": [],
   "source": [
    "cpj.to_csv('~/Desktop/cpj_thesis_2/data/cpj.csv', index=False)"
   ]
  },
  {
   "cell_type": "code",
   "execution_count": 41,
   "metadata": {},
   "outputs": [
    {
     "data": {
      "text/plain": [
       "fullName           178\n",
       "organizations      178\n",
       "location           178\n",
       "status             178\n",
       "typeOfDeath        178\n",
       "Date               178\n",
       "mtpage             178\n",
       "type               178\n",
       "motiveConfirmed    178\n",
       "charges              0\n",
       "Year               178\n",
       "dtype: int64"
      ]
     },
     "execution_count": 41,
     "metadata": {},
     "output_type": "execute_result"
    }
   ],
   "source": [
    "#Filter for journalists location column in \"\"Israel and the Occupied Palestinian Territory\"\n",
    "filtered_cpj = cpj[cpj['location'] == \"Israel and the Occupied Palestinian Territory\"]\n",
    "filtered_cpj.count()"
   ]
  },
  {
   "cell_type": "code",
   "execution_count": 42,
   "metadata": {},
   "outputs": [],
   "source": [
    "#The number of journalists killed in the Israel and the Occupied Palestinian Territory was 178 journalists."
   ]
  },
  {
   "cell_type": "markdown",
   "metadata": {},
   "source": [
    "## Data Analysis"
   ]
  },
  {
   "cell_type": "markdown",
   "metadata": {},
   "source": [
    "### Finding 1: The number of journalists killed since 1992 was 1,687 journalists."
   ]
  },
  {
   "cell_type": "code",
   "execution_count": 43,
   "metadata": {},
   "outputs": [
    {
     "data": {
      "text/plain": [
       "fullName           1687\n",
       "organizations      1687\n",
       "location           1687\n",
       "status             1687\n",
       "typeOfDeath        1687\n",
       "Date               1687\n",
       "mtpage             1687\n",
       "type               1687\n",
       "motiveConfirmed    1687\n",
       "charges               0\n",
       "Year               1687\n",
       "dtype: int64"
      ]
     },
     "execution_count": 43,
     "metadata": {},
     "output_type": "execute_result"
    }
   ],
   "source": [
    "#What was the number of journalists killed since 1992-2025?\n",
    "cpj.count()"
   ]
  },
  {
   "cell_type": "markdown",
   "metadata": {},
   "source": [
    "### Finding 2: The number of journalists killed since Oct. 7, 2023 was 159 journalists."
   ]
  },
  {
   "cell_type": "code",
   "execution_count": 44,
   "metadata": {},
   "outputs": [],
   "source": [
    "#What was the number of journalists killed ('status' column) since Oct. 7?"
   ]
  },
  {
   "cell_type": "code",
   "execution_count": 45,
   "metadata": {},
   "outputs": [
    {
     "name": "stdout",
     "output_type": "stream",
     "text": [
      "Number of journalists killed since Oct. 7, 2023: 159\n"
     ]
    }
   ],
   "source": [
    "#Filter for number of journalists killed since Oct. 7, 2023 in filtered_cpj\n",
    "killed_since_oct7 = filtered_cpj[(filtered_cpj['status'] == 'Killed') & (filtered_cpj['Date'] >= '2023-10-07')]\n",
    "#Count the number of journalists killed\n",
    "num_killed_since_oct7 = killed_since_oct7.shape[0]\n",
    "print(f\"Number of journalists killed since Oct. 7, 2023: {num_killed_since_oct7}\")"
   ]
  },
  {
   "cell_type": "code",
   "execution_count": 46,
   "metadata": {},
   "outputs": [
    {
     "name": "stdout",
     "output_type": "stream",
     "text": [
      "                    fullName                              organizations  \\\n",
      "3             Abdallah Alwan  Holy Quran Radio,Midan,Mugtama,Al-Jazeera   \n",
      "5        Abdallah Iyad Breis                Rawafed educational channel   \n",
      "10    Abdel Rahman al-Tanani                                  Freelance   \n",
      "36         Abdul Rahman Bahr                    Palestine Breaking News   \n",
      "38        Abdul Rahman Saima                                  Raqami TV   \n",
      "...                      ...                                        ...   \n",
      "1650  Yasser Mamdouh El-Fady                         Kan'an news agency   \n",
      "1651        Yazan al-Zuweidi                                    Al-Ghad   \n",
      "1655      Yousef Maher Dawas                                  Freelance   \n",
      "1672       Zahraa Abu Skheil                                  Freelance   \n",
      "1679          Zayd Abu Zayed                                Quran Radio   \n",
      "\n",
      "                                           location  status  \\\n",
      "3     Israel and the Occupied Palestinian Territory  Killed   \n",
      "5     Israel and the Occupied Palestinian Territory  Killed   \n",
      "10    Israel and the Occupied Palestinian Territory  Killed   \n",
      "36    Israel and the Occupied Palestinian Territory  Killed   \n",
      "38    Israel and the Occupied Palestinian Territory  Killed   \n",
      "...                                             ...     ...   \n",
      "1650  Israel and the Occupied Palestinian Territory  Killed   \n",
      "1651  Israel and the Occupied Palestinian Territory  Killed   \n",
      "1655  Israel and the Occupied Palestinian Territory  Killed   \n",
      "1672  Israel and the Occupied Palestinian Territory  Killed   \n",
      "1679  Israel and the Occupied Palestinian Territory  Killed   \n",
      "\n",
      "               typeOfDeath       Date  \\\n",
      "3     Dangerous Assignment 2023-12-18   \n",
      "5     Dangerous Assignment 2024-01-08   \n",
      "10    Dangerous Assignment 2023-11-18   \n",
      "36    Dangerous Assignment 2024-10-05   \n",
      "38    Dangerous Assignment 2024-03-14   \n",
      "...                    ...        ...   \n",
      "1650  Dangerous Assignment 2024-02-11   \n",
      "1651  Dangerous Assignment 2024-01-14   \n",
      "1655  Dangerous Assignment 2023-10-14   \n",
      "1672  Dangerous Assignment 2024-11-09   \n",
      "1679  Dangerous Assignment 2024-02-15   \n",
      "\n",
      "                                                 mtpage        type  \\\n",
      "3           https://cpj.org/data/people/abdallah-alwan/  Journalist   \n",
      "5      https://cpj.org/data/people/abdallah-iyad-breis/  Journalist   \n",
      "10    https://cpj.org/data/people/abdel-rahman-al-ta...  Journalist   \n",
      "36       https://cpj.org/data/people/abdul-rahman-bahr/  Journalist   \n",
      "38      https://cpj.org/data/people/abdul-rahman-saima/  Journalist   \n",
      "...                                                 ...         ...   \n",
      "1650  https://cpj.org/data/people/yasser-mamdouh-el-...  Journalist   \n",
      "1651      https://cpj.org/data/people/yazan-al-zuweidi/  Journalist   \n",
      "1655    https://cpj.org/data/people/yousef-maher-dawas/  Journalist   \n",
      "1672     https://cpj.org/data/people/zahraa-abu-skheil/  Journalist   \n",
      "1679        https://cpj.org/data/people/zayd-abu-zayed/  Journalist   \n",
      "\n",
      "     motiveConfirmed  charges  Year  Month  \n",
      "3          Confirmed      NaN  2023     12  \n",
      "5          Confirmed      NaN  2024      1  \n",
      "10         Confirmed      NaN  2023     11  \n",
      "36         Confirmed      NaN  2024     10  \n",
      "38         Confirmed      NaN  2024      3  \n",
      "...              ...      ...   ...    ...  \n",
      "1650       Confirmed      NaN  2024      2  \n",
      "1651       Confirmed      NaN  2024      1  \n",
      "1655       Confirmed      NaN  2023     10  \n",
      "1672       Confirmed      NaN  2024     11  \n",
      "1679       Confirmed      NaN  2024      2  \n",
      "\n",
      "[159 rows x 12 columns]\n"
     ]
    }
   ],
   "source": [
    "# Create a copy of the filtered DataFrame to avoid \"SettingWithCopyWarning\"\n",
    "filtered_cpj = filtered_cpj.copy()\n",
    "\n",
    "# Ensure 'Date' column is in datetime format\n",
    "filtered_cpj['Date'] = pd.to_datetime(filtered_cpj['Date'])\n",
    "\n",
    "# Filter for journalists killed since October 7\n",
    "oct_7_date = datetime.datetime(2023, 10, 7)\n",
    "killed_since_oct7 = filtered_cpj.loc[\n",
    "    (filtered_cpj['status'] == 'Killed') & (filtered_cpj['Date'] >= oct_7_date)\n",
    "].copy()  # Explicitly create a copy of the filtered DataFrame\n",
    "\n",
    "# Add a 'Month' column safely\n",
    "killed_since_oct7['Month'] = killed_since_oct7['Date'].dt.month\n",
    "\n",
    "print(killed_since_oct7)"
   ]
  },
  {
   "cell_type": "code",
   "execution_count": 47,
   "metadata": {},
   "outputs": [],
   "source": [
    "# Add 'Year' column to filtered_cpj DataFrame\n",
    "filtered_cpj['Year'] = filtered_cpj['Date'].dt.year\n",
    "filtered_cpj.to_csv('~/Desktop/cpj_thesis_2/data/filtered_cpj.csv', index=False)"
   ]
  },
  {
   "cell_type": "markdown",
   "metadata": {},
   "source": [
    "### Finding 3: The number of freelance journalists killed was 47 journalists since Oct. 7, 2023."
   ]
  },
  {
   "cell_type": "code",
   "execution_count": 48,
   "metadata": {},
   "outputs": [],
   "source": [
    "#What was the number of freelance journalists killed ('status' column) since Oct. 7?"
   ]
  },
  {
   "cell_type": "code",
   "execution_count": 49,
   "metadata": {},
   "outputs": [
    {
     "name": "stdout",
     "output_type": "stream",
     "text": [
      "Number of freelance journalists killed since Oct. 7, 2023: 47\n"
     ]
    }
   ],
   "source": [
    "# Filter for number of freelance journalists killed since Oct. 7, 2023 in filtered_cpj\n",
    "freelance_killed_since_oct7 = filtered_cpj[\n",
    "    (filtered_cpj['status'] == 'Killed') & \n",
    "    (filtered_cpj['Date'] >= '2023-10-07') & \n",
    "    (filtered_cpj['organizations'] == 'Freelance')\n",
    "]\n",
    "# Count the number of freelance journalists killed\n",
    "num_freelance_killed_since_oct7 = freelance_killed_since_oct7.shape[0]\n",
    "print(f\"Number of freelance journalists killed since Oct. 7, 2023: {num_freelance_killed_since_oct7}\")"
   ]
  },
  {
   "cell_type": "code",
   "execution_count": 50,
   "metadata": {},
   "outputs": [
    {
     "name": "stdout",
     "output_type": "stream",
     "text": [
      "Freelance journalists killed per year since Oct. 7, 2023:\n",
      "   Year  Freelance Killed\n",
      "0  2023                12\n",
      "1  2024                25\n",
      "2  2025                10\n"
     ]
    }
   ],
   "source": [
    "#Filter freelance journalists killed per year since Oct. 7, 2023\n",
    "freelance_killed_per_year = freelance_killed_since_oct7.groupby('Year').size().reset_index(name='Freelance Killed')\n",
    "print(\"Freelance journalists killed per year since Oct. 7, 2023:\")\n",
    "print(freelance_killed_per_year)"
   ]
  },
  {
   "cell_type": "code",
   "execution_count": 51,
   "metadata": {},
   "outputs": [
    {
     "data": {
      "text/html": [
       "\n",
       "<style>\n",
       "  #altair-viz-183d4d505ced4414900ca6221c9ecf73.vega-embed {\n",
       "    width: 100%;\n",
       "    display: flex;\n",
       "  }\n",
       "\n",
       "  #altair-viz-183d4d505ced4414900ca6221c9ecf73.vega-embed details,\n",
       "  #altair-viz-183d4d505ced4414900ca6221c9ecf73.vega-embed details summary {\n",
       "    position: relative;\n",
       "  }\n",
       "</style>\n",
       "<div id=\"altair-viz-183d4d505ced4414900ca6221c9ecf73\"></div>\n",
       "<script type=\"text/javascript\">\n",
       "  var VEGA_DEBUG = (typeof VEGA_DEBUG == \"undefined\") ? {} : VEGA_DEBUG;\n",
       "  (function(spec, embedOpt){\n",
       "    let outputDiv = document.currentScript.previousElementSibling;\n",
       "    if (outputDiv.id !== \"altair-viz-183d4d505ced4414900ca6221c9ecf73\") {\n",
       "      outputDiv = document.getElementById(\"altair-viz-183d4d505ced4414900ca6221c9ecf73\");\n",
       "    }\n",
       "\n",
       "    const paths = {\n",
       "      \"vega\": \"https://cdn.jsdelivr.net/npm/vega@5?noext\",\n",
       "      \"vega-lib\": \"https://cdn.jsdelivr.net/npm/vega-lib?noext\",\n",
       "      \"vega-lite\": \"https://cdn.jsdelivr.net/npm/vega-lite@5.20.1?noext\",\n",
       "      \"vega-embed\": \"https://cdn.jsdelivr.net/npm/vega-embed@6?noext\",\n",
       "    };\n",
       "\n",
       "    function maybeLoadScript(lib, version) {\n",
       "      var key = `${lib.replace(\"-\", \"\")}_version`;\n",
       "      return (VEGA_DEBUG[key] == version) ?\n",
       "        Promise.resolve(paths[lib]) :\n",
       "        new Promise(function(resolve, reject) {\n",
       "          var s = document.createElement('script');\n",
       "          document.getElementsByTagName(\"head\")[0].appendChild(s);\n",
       "          s.async = true;\n",
       "          s.onload = () => {\n",
       "            VEGA_DEBUG[key] = version;\n",
       "            return resolve(paths[lib]);\n",
       "          };\n",
       "          s.onerror = () => reject(`Error loading script: ${paths[lib]}`);\n",
       "          s.src = paths[lib];\n",
       "        });\n",
       "    }\n",
       "\n",
       "    function showError(err) {\n",
       "      outputDiv.innerHTML = `<div class=\"error\" style=\"color:red;\">${err}</div>`;\n",
       "      throw err;\n",
       "    }\n",
       "\n",
       "    function displayChart(vegaEmbed) {\n",
       "      vegaEmbed(outputDiv, spec, embedOpt)\n",
       "        .catch(err => showError(`Javascript Error: ${err.message}<br>This usually means there's a typo in your chart specification. See the javascript console for the full traceback.`));\n",
       "    }\n",
       "\n",
       "    if(typeof define === \"function\" && define.amd) {\n",
       "      requirejs.config({paths});\n",
       "      let deps = [\"vega-embed\"];\n",
       "      require(deps, displayChart, err => showError(`Error loading script: ${err.message}`));\n",
       "    } else {\n",
       "      maybeLoadScript(\"vega\", \"5\")\n",
       "        .then(() => maybeLoadScript(\"vega-lite\", \"5.20.1\"))\n",
       "        .then(() => maybeLoadScript(\"vega-embed\", \"6\"))\n",
       "        .catch(showError)\n",
       "        .then(() => displayChart(vegaEmbed));\n",
       "    }\n",
       "  })({\"usermeta\": {\"embedOptions\": {\"theme\": \"dark\"}}, \"config\": {\"view\": {\"continuousWidth\": 300, \"continuousHeight\": 300}}, \"data\": {\"name\": \"data-824c6c98da0d5d0caa48d47805c9a9c6\"}, \"mark\": {\"type\": \"bar\"}, \"encoding\": {\"tooltip\": [{\"field\": \"Year\", \"type\": \"quantitative\"}, {\"field\": \"Freelance Killed\", \"type\": \"quantitative\"}], \"x\": {\"axis\": {\"labelAngle\": 0}, \"field\": \"Year\", \"title\": \"Year\", \"type\": \"ordinal\"}, \"y\": {\"field\": \"Freelance Killed\", \"title\": \"Number of Freelance Journalists Killed\", \"type\": \"quantitative\"}}, \"params\": [{\"name\": \"param_2\", \"select\": {\"type\": \"interval\", \"encodings\": [\"x\", \"y\"]}, \"bind\": \"scales\"}], \"title\": \"Freelance Journalists Killed per Year since Oct. 7, 2023\", \"width\": 800, \"$schema\": \"https://vega.github.io/schema/vega-lite/v5.20.1.json\", \"datasets\": {\"data-824c6c98da0d5d0caa48d47805c9a9c6\": [{\"Year\": 2023, \"Freelance Killed\": 12}, {\"Year\": 2024, \"Freelance Killed\": 25}, {\"Year\": 2025, \"Freelance Killed\": 10}]}}, {\"mode\": \"vega-lite\"});\n",
       "</script>"
      ],
      "text/plain": [
       "alt.Chart(...)"
      ]
     },
     "metadata": {},
     "output_type": "display_data"
    }
   ],
   "source": [
    "# Create a bar chart for the number of freelance journalists killed per year since Oct. 7, 2023\n",
    "bar_chart_freelance_killed = alt.Chart(freelance_killed_per_year).mark_bar().encode(\n",
    "    x=alt.X('Year:O', title='Year', axis=alt.Axis(labelAngle=0)),  # Set x-axis labels horizontal\n",
    "    y=alt.Y('Freelance Killed:Q', title='Number of Freelance Journalists Killed'),\n",
    "    #color=alt.Color('Freelance Killed:Q', scale=alt.Scale(scheme='blues')),  # Light-to-dark blue shades\n",
    "    tooltip=['Year', 'Freelance Killed']  # Add hover tooltip\n",
    ").properties(\n",
    "    title='Freelance Journalists Killed per Year since Oct. 7, 2023',\n",
    "    width=800  # Make the chart wider\n",
    ").interactive()  # Enable hover interaction\n",
    "\n",
    "# Display the bar chart\n",
    "bar_chart_freelance_killed.show()"
   ]
  },
  {
   "cell_type": "code",
   "execution_count": 52,
   "metadata": {},
   "outputs": [],
   "source": [
    "#Freelance journalists killed per month"
   ]
  },
  {
   "cell_type": "markdown",
   "metadata": {},
   "source": [
    "### Finding 4: The year that had the highest number of deaths was 2024 with 76 deaths. "
   ]
  },
  {
   "cell_type": "code",
   "execution_count": 53,
   "metadata": {},
   "outputs": [],
   "source": [
    "#Between 2023-2025, what year had the highest number of deaths? Why?"
   ]
  },
  {
   "cell_type": "code",
   "execution_count": 54,
   "metadata": {},
   "outputs": [
    {
     "name": "stdout",
     "output_type": "stream",
     "text": [
      "The year with the highest number of deaths between 2023-2025 is 2024 with 76 deaths.\n"
     ]
    }
   ],
   "source": [
    "# Find the year with the highest number of deaths\n",
    "highest_deaths_year = filtered_cpj[\n",
    "    (filtered_cpj['Date'] >= '2023-01-01') & \n",
    "    (filtered_cpj['Date'] <= '2025-12-31')\n",
    "].groupby('Year').size().reset_index(name='Count').loc[\n",
    "    lambda df: df['Count'].idxmax()\n",
    "]\n",
    "# Print the year with the highest number of deaths\n",
    "print(f\"The year with the highest number of deaths between 2023-2025 is {highest_deaths_year['Year']} with {highest_deaths_year['Count']} deaths.\")"
   ]
  },
  {
   "cell_type": "markdown",
   "metadata": {},
   "source": [
    "### Finding 5: On a global level, the location that experienced the highest number of journalist deaths was Iraq with 193 deaths. The second was the Israel and the Occupied Palestinian Territory with 178 deaths."
   ]
  },
  {
   "cell_type": "code",
   "execution_count": 55,
   "metadata": {},
   "outputs": [
    {
     "name": "stdout",
     "output_type": "stream",
     "text": [
      "Top 10 locations with the highest number of journalist deaths since 1992:\n",
      "                                         location  Deaths\n",
      "46                                           Iraq     193\n",
      "48  Israel and the Occupied Palestinian Territory     178\n",
      "90                                          Syria     145\n",
      "75                                    Philippines      96\n",
      "84                                        Somalia      73\n",
      "70                                       Pakistan      68\n",
      "63                                         Mexico      65\n",
      "43                                          India      61\n",
      "78                                         Russia      60\n",
      "1                                         Algeria      60\n"
     ]
    }
   ],
   "source": [
    "#On a global level, which locations have experienced the highest number of journalist deaths since 1992?\n",
    "# Within the cpj.csv group by 'location' and count the number of deaths \n",
    "global_deaths = cpj.groupby('location').size().reset_index(name='Deaths').sort_values(by='Deaths', ascending=False)\n",
    "# Display the top 10 locations with the highest number of journalist deaths\n",
    "print(\"Top 10 locations with the highest number of journalist deaths since 1992:\")\n",
    "print(global_deaths.head(10))"
   ]
  },
  {
   "cell_type": "code",
   "execution_count": 58,
   "metadata": {},
   "outputs": [
    {
     "data": {
      "text/html": [
       "\n",
       "<style>\n",
       "  #altair-viz-384ded17c63d476299a22c4cdd413104.vega-embed {\n",
       "    width: 100%;\n",
       "    display: flex;\n",
       "  }\n",
       "\n",
       "  #altair-viz-384ded17c63d476299a22c4cdd413104.vega-embed details,\n",
       "  #altair-viz-384ded17c63d476299a22c4cdd413104.vega-embed details summary {\n",
       "    position: relative;\n",
       "  }\n",
       "</style>\n",
       "<div id=\"altair-viz-384ded17c63d476299a22c4cdd413104\"></div>\n",
       "<script type=\"text/javascript\">\n",
       "  var VEGA_DEBUG = (typeof VEGA_DEBUG == \"undefined\") ? {} : VEGA_DEBUG;\n",
       "  (function(spec, embedOpt){\n",
       "    let outputDiv = document.currentScript.previousElementSibling;\n",
       "    if (outputDiv.id !== \"altair-viz-384ded17c63d476299a22c4cdd413104\") {\n",
       "      outputDiv = document.getElementById(\"altair-viz-384ded17c63d476299a22c4cdd413104\");\n",
       "    }\n",
       "\n",
       "    const paths = {\n",
       "      \"vega\": \"https://cdn.jsdelivr.net/npm/vega@5?noext\",\n",
       "      \"vega-lib\": \"https://cdn.jsdelivr.net/npm/vega-lib?noext\",\n",
       "      \"vega-lite\": \"https://cdn.jsdelivr.net/npm/vega-lite@5.20.1?noext\",\n",
       "      \"vega-embed\": \"https://cdn.jsdelivr.net/npm/vega-embed@6?noext\",\n",
       "    };\n",
       "\n",
       "    function maybeLoadScript(lib, version) {\n",
       "      var key = `${lib.replace(\"-\", \"\")}_version`;\n",
       "      return (VEGA_DEBUG[key] == version) ?\n",
       "        Promise.resolve(paths[lib]) :\n",
       "        new Promise(function(resolve, reject) {\n",
       "          var s = document.createElement('script');\n",
       "          document.getElementsByTagName(\"head\")[0].appendChild(s);\n",
       "          s.async = true;\n",
       "          s.onload = () => {\n",
       "            VEGA_DEBUG[key] = version;\n",
       "            return resolve(paths[lib]);\n",
       "          };\n",
       "          s.onerror = () => reject(`Error loading script: ${paths[lib]}`);\n",
       "          s.src = paths[lib];\n",
       "        });\n",
       "    }\n",
       "\n",
       "    function showError(err) {\n",
       "      outputDiv.innerHTML = `<div class=\"error\" style=\"color:red;\">${err}</div>`;\n",
       "      throw err;\n",
       "    }\n",
       "\n",
       "    function displayChart(vegaEmbed) {\n",
       "      vegaEmbed(outputDiv, spec, embedOpt)\n",
       "        .catch(err => showError(`Javascript Error: ${err.message}<br>This usually means there's a typo in your chart specification. See the javascript console for the full traceback.`));\n",
       "    }\n",
       "\n",
       "    if(typeof define === \"function\" && define.amd) {\n",
       "      requirejs.config({paths});\n",
       "      let deps = [\"vega-embed\"];\n",
       "      require(deps, displayChart, err => showError(`Error loading script: ${err.message}`));\n",
       "    } else {\n",
       "      maybeLoadScript(\"vega\", \"5\")\n",
       "        .then(() => maybeLoadScript(\"vega-lite\", \"5.20.1\"))\n",
       "        .then(() => maybeLoadScript(\"vega-embed\", \"6\"))\n",
       "        .catch(showError)\n",
       "        .then(() => displayChart(vegaEmbed));\n",
       "    }\n",
       "  })({\"usermeta\": {\"embedOptions\": {\"theme\": \"dark\"}}, \"config\": {\"view\": {\"continuousWidth\": 300, \"continuousHeight\": 300}}, \"data\": {\"name\": \"data-45b76f7dac3eb2ad30ce0d393b026f7e\"}, \"mark\": {\"type\": \"circle\", \"size\": 100}, \"encoding\": {\"color\": {\"field\": \"Deaths\", \"scale\": {\"scheme\": \"reds\"}, \"type\": \"quantitative\"}, \"size\": {\"field\": \"Deaths\", \"scale\": {\"range\": [10, 500]}, \"title\": \"Number of Deaths\", \"type\": \"quantitative\"}, \"tooltip\": [{\"field\": \"location\", \"type\": \"nominal\"}, {\"field\": \"Deaths\", \"type\": \"quantitative\"}], \"x\": {\"field\": \"Deaths\", \"title\": \"Number of Deaths\", \"type\": \"quantitative\"}, \"y\": {\"field\": \"location\", \"sort\": \"-x\", \"title\": \"Location\", \"type\": \"nominal\"}}, \"height\": 400, \"params\": [{\"name\": \"param_3\", \"select\": {\"type\": \"interval\", \"encodings\": [\"x\", \"y\"]}, \"bind\": \"scales\"}], \"title\": \"Top 10 Locations with Highest Journalist Deaths since 1992\", \"width\": 500, \"$schema\": \"https://vega.github.io/schema/vega-lite/v5.20.1.json\", \"datasets\": {\"data-45b76f7dac3eb2ad30ce0d393b026f7e\": [{\"location\": \"Iraq\", \"Deaths\": 193}, {\"location\": \"Israel and the Occupied Palestinian Territory\", \"Deaths\": 178}, {\"location\": \"Syria\", \"Deaths\": 145}, {\"location\": \"Philippines\", \"Deaths\": 96}, {\"location\": \"Somalia\", \"Deaths\": 73}, {\"location\": \"Pakistan\", \"Deaths\": 68}, {\"location\": \"Mexico\", \"Deaths\": 65}, {\"location\": \"India\", \"Deaths\": 61}, {\"location\": \"Russia\", \"Deaths\": 60}, {\"location\": \"Algeria\", \"Deaths\": 60}]}}, {\"mode\": \"vega-lite\"});\n",
       "</script>"
      ],
      "text/plain": [
       "alt.Chart(...)"
      ]
     },
     "metadata": {},
     "output_type": "display_data"
    }
   ],
   "source": [
    "#Define the top 10 locations with the highest number of journalist deaths\n",
    "top_10_locations = global_deaths.head(10)\n",
    "global_deaths = cpj.groupby('location').size().reset_index(name='Deaths').sort_values(by='Deaths', ascending=False)\n",
    "alt.themes.enable(\"dark\")\n",
    "\n",
    "# Create a bubble chart for the top 10 locations with locations on the y-axis\n",
    "bubble_chart_top_10_locations = alt.Chart(top_10_locations).mark_circle(size=100).encode(\n",
    "    x=alt.X('Deaths:Q', title='Number of Deaths'),\n",
    "    y=alt.Y('location:N', title='Location', sort='-x'),  # Sort locations by number of deaths\n",
    "    size=alt.Size('Deaths:Q', title='Number of Deaths', scale=alt.Scale(range=[10, 500])),  # Bubble size\n",
    "    color=alt.Color('Deaths:Q', scale=alt.Scale(scheme='reds')),  # Light-to-dark red shades\n",
    "    tooltip=['location', 'Deaths']  # Add hover tooltip\n",
    ").properties(\n",
    "    title='Top 10 Locations with Highest Journalist Deaths since 1992',\n",
    "    width=500,  # Make the chart less wide\n",
    "    height=400  # Set height for better visibility\n",
    ").interactive()  # Enable hover interaction\n",
    "\n",
    "# Display the bubble chart\n",
    "bubble_chart_top_10_locations.show()"
   ]
  },
  {
   "cell_type": "code",
   "execution_count": null,
   "metadata": {},
   "outputs": [],
   "source": []
  }
 ],
 "metadata": {
  "kernelspec": {
   "display_name": ".venv",
   "language": "python",
   "name": "python3"
  },
  "language_info": {
   "codemirror_mode": {
    "name": "ipython",
    "version": 3
   },
   "file_extension": ".py",
   "mimetype": "text/x-python",
   "name": "python",
   "nbconvert_exporter": "python",
   "pygments_lexer": "ipython3",
   "version": "3.12.8"
  }
 },
 "nbformat": 4,
 "nbformat_minor": 2
}

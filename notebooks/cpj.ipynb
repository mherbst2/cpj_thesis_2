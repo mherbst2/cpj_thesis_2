{
 "cells": [
  {
   "cell_type": "markdown",
   "metadata": {},
   "source": [
    "# Seeking Truth in A Time of War\n",
    "\n",
    "TK: Brief overview of the thesis idea (a few shorts paragraphs). Include links and brief desription of the data source(s) used in the the notebook's analysis.\n",
    "\n",
    "List of findings (based on your QQs):\n",
    "\n",
    "- The number of journalists killed since 1992 was 1,687 journalists.\n",
    "- The number of journalists killed since Oct. 7, 2023 was 159 journalists in the Israel-Palestine Conflict.\n",
    "- The number of freelance journalists killed was 47 journalists since Oct. 7, 2023 in the Israel-Palestine Conflict.\n",
    "- The year that had the highest number of deaths was 2024 with 76 deaths. \n",
    "- \n",
    "- \n",
    "-\n",
    "\n",
    "Main questions:\n",
    "- What was the number of journalists killed since 1992-2025?\n",
    "- What was the number of journalists killed since Oct. 7, 2023 attacks?\n",
    "- What was the number of freelance journalists killed since Oct. 7, 2023 attacks?\n",
    "- Between 2023-2025, what year had the highest number of deaths? Why?\n",
    "- Which regions have experienced the highest number of journalist deaths?\n",
    "- What are the age and gender demographics of journalists being killed?\n",
    "- How many journalists were killed reporting from civilian versus active combat zones during the conflict?\n",
    "- What was the rate of journalists being killed per news organizations?\n",
    "- How many journalists died under each category (crossfire, crossfire/combat related, dangerous assignment, murder, unknown) from 2023-2025?\n",
    "- Which category accounted for the highest number of journalist deaths over 2023-2025?"
   ]
  },
  {
   "cell_type": "code",
   "execution_count": 2,
   "metadata": {},
   "outputs": [],
   "source": [
    "import pandas as pd\n",
    "from vega_datasets import data\n",
    "import altair as alt\n",
    "import numpy as np\n",
    "import datetime\n",
    "import os\n",
    "from pathlib import Path\n",
    "pd.set_option('display.max_columns', None)"
   ]
  },
  {
   "cell_type": "code",
   "execution_count": 3,
   "metadata": {},
   "outputs": [],
   "source": [
    "# Get the current working directory \n",
    "current_directory = Path(os.getcwd()).resolve()"
   ]
  },
  {
   "cell_type": "code",
   "execution_count": 4,
   "metadata": {},
   "outputs": [],
   "source": [
    "DATA_DIR = current_directory.parent.joinpath('data')\n",
    "DATA_DIR.mkdir(parents=True, exist_ok=True)"
   ]
  },
  {
   "cell_type": "code",
   "execution_count": 5,
   "metadata": {},
   "outputs": [],
   "source": [
    "# Load the data\n",
    "csv_file = DATA_DIR / \"cpj_data.csv\" # Combine path and file name\n",
    "cpj = pd.read_csv(csv_file)"
   ]
  },
  {
   "cell_type": "code",
   "execution_count": 6,
   "metadata": {},
   "outputs": [
    {
     "name": "stdout",
     "output_type": "stream",
     "text": [
      "Unique values in the 'location' column: ['Afghanistan' 'Ethiopia' 'Syria'\n",
      " 'Israel and the Occupied Palestinian Territory' 'Algeria' 'Iraq' 'Libya'\n",
      " 'Somalia' 'Pakistan' 'Bangladesh' 'South Africa' 'Sierra Leone' 'Yemen'\n",
      " 'Russia' 'India' 'South Sudan' 'USA' 'Azerbaijan' 'Peru'\n",
      " 'Democratic Republic of the Congo' 'Mexico' 'East Timor' 'Egypt'\n",
      " 'Lebanon' 'Ghana' 'Bahrain' 'Maldives' 'Turkey' 'Sri Lanka' 'Sudan'\n",
      " 'Angola' 'Mozambique' 'Belarus' 'Philippines' 'Central African Republic'\n",
      " 'Bosnia' 'Georgia' 'Burundi' 'Colombia' 'El Salvador' 'Indonesia'\n",
      " 'Kyrgyzstan' 'Rwanda' 'Ukraine' 'Madagascar' 'Nicaragua' 'Ivory Coast'\n",
      " 'Brazil' 'Thailand' 'Myanmar' 'Serbia' 'Nigeria' 'France' 'Nepal'\n",
      " 'Canada' 'Haiti' 'Ecuador' 'Honduras' 'Bolivia' 'Cambodia' 'Gambia'\n",
      " 'Barbados' 'Mali' 'Guatemala' 'Malta' 'Panama' 'Tanzania' 'Burkina Faso'\n",
      " 'Montenegro' 'Iran' 'Paraguay' 'Zimbabwe' 'Guinea' 'Chad'\n",
      " 'Republic of Congo' 'China' 'Eritrea' 'Tajikistan' 'Kenya' 'Chile'\n",
      " 'Yugoslavia' 'Kazakhstan' 'Cameroon' 'Greece' 'Latvia' 'Croatia'\n",
      " 'Saudi Arabia' 'Slovakia' 'Poland' 'Uganda' 'Venezuela'\n",
      " 'Dominican Republic' 'Argentina' 'Spain' 'Uruguay' 'Denmark' 'Cyprus'\n",
      " 'Tunisia' 'UK' 'Turkmenistan' 'Costa Rica' 'Papua New Guinea' 'Lesotho'\n",
      " 'Japan' 'Ireland' 'Lithuania']\n"
     ]
    }
   ],
   "source": [
    "#Check categorical values like the location column to see if their are any missing values\n",
    "print(\"Unique values in the 'location' column:\", cpj['location'].unique())"
   ]
  },
  {
   "cell_type": "code",
   "execution_count": 7,
   "metadata": {},
   "outputs": [
    {
     "name": "stdout",
     "output_type": "stream",
     "text": [
      "Missing values in the 'location' column: 0\n"
     ]
    }
   ],
   "source": [
    "#Check for missing values in the location column\n",
    "print(\"Missing values in the 'location' column:\", cpj['location'].isnull().sum())"
   ]
  },
  {
   "cell_type": "markdown",
   "metadata": {},
   "source": [
    "## Data Quality Assessments"
   ]
  },
  {
   "cell_type": "code",
   "execution_count": 8,
   "metadata": {},
   "outputs": [
    {
     "name": "stdout",
     "output_type": "stream",
     "text": [
      "Total number of rows in the dataset: 1687\n"
     ]
    }
   ],
   "source": [
    "#Check row counts if that makes sense (and compare to what is on the source agency site)\n",
    "print(\"Total number of rows in the dataset:\", cpj.shape[0])"
   ]
  },
  {
   "cell_type": "code",
   "execution_count": 9,
   "metadata": {},
   "outputs": [
    {
     "name": "stdout",
     "output_type": "stream",
     "text": [
      "Column names in the dataset: ['fullName', 'organizations', 'location', 'status', 'typeOfDeath', 'startDisplay', 'mtpage', 'type', 'motiveConfirmed', 'charges']\n"
     ]
    }
   ],
   "source": [
    "#Get the column names\n",
    "print(\"Column names in the dataset:\", cpj.columns.tolist())"
   ]
  },
  {
   "cell_type": "code",
   "execution_count": 10,
   "metadata": {},
   "outputs": [],
   "source": [
    "#Change startDisplay column name to \"Date\"\n",
    "cpj = cpj.rename(columns={'startDisplay': 'Date'})\n",
    "#Convert the Date column to datetime format\n",
    "cpj['Date'] = pd.to_datetime(cpj['Date'], errors='coerce')"
   ]
  },
  {
   "cell_type": "code",
   "execution_count": 11,
   "metadata": {},
   "outputs": [
    {
     "name": "stdout",
     "output_type": "stream",
     "text": [
      "First few rows of the dataset with formatted Date column:\n",
      "         Date                                       location\n",
      "0  2018-04-30                                    Afghanistan\n",
      "1  1998-02-09                                       Ethiopia\n",
      "2  2012-12-21                                          Syria\n",
      "3  2023-12-18  Israel and the Occupied Palestinian Territory\n",
      "4  1996-02-10                                        Algeria\n"
     ]
    }
   ],
   "source": [
    "cpj['Date'] = cpj['Date'].dt.strftime('%Y-%m-%d')  # Format the date as YYYY-MM-DD\n",
    "# Check if the Date column is in the correct format\n",
    "print(\"First few rows of the dataset with formatted Date column:\")\n",
    "print(cpj[['Date', 'location']].head())"
   ]
  },
  {
   "cell_type": "code",
   "execution_count": 12,
   "metadata": {},
   "outputs": [
    {
     "data": {
      "text/plain": [
       "fullName           178\n",
       "organizations      178\n",
       "location           178\n",
       "status             178\n",
       "typeOfDeath        178\n",
       "Date               178\n",
       "mtpage             178\n",
       "type               178\n",
       "motiveConfirmed    178\n",
       "charges              0\n",
       "dtype: int64"
      ]
     },
     "execution_count": 12,
     "metadata": {},
     "output_type": "execute_result"
    }
   ],
   "source": [
    "#Filter for journalists location column in \"\"Israel and the Occupied Palestinian Territory\"\n",
    "filtered_cpj = cpj[cpj['location'] == \"Israel and the Occupied Palestinian Territory\"]\n",
    "filtered_cpj.count()"
   ]
  },
  {
   "cell_type": "code",
   "execution_count": 13,
   "metadata": {},
   "outputs": [],
   "source": [
    "#The number of journalists killed in the Israel and the Occupied Palestinian Territory was 178 journalists."
   ]
  },
  {
   "cell_type": "markdown",
   "metadata": {},
   "source": [
    "## Data Analysis"
   ]
  },
  {
   "cell_type": "markdown",
   "metadata": {},
   "source": [
    "### Finding 1: The number of journalists killed since 1992 was 1,687 journalists."
   ]
  },
  {
   "cell_type": "code",
   "execution_count": 14,
   "metadata": {},
   "outputs": [
    {
     "data": {
      "text/plain": [
       "fullName           1687\n",
       "organizations      1687\n",
       "location           1687\n",
       "status             1687\n",
       "typeOfDeath        1687\n",
       "Date               1687\n",
       "mtpage             1687\n",
       "type               1687\n",
       "motiveConfirmed    1687\n",
       "charges               0\n",
       "dtype: int64"
      ]
     },
     "execution_count": 14,
     "metadata": {},
     "output_type": "execute_result"
    }
   ],
   "source": [
    "#What was the number of journalists killed since 1992-2025?\n",
    "cpj.count()"
   ]
  },
  {
   "cell_type": "markdown",
   "metadata": {},
   "source": [
    "### Finding 2: The number of journalists killed since Oct. 7, 2023 was 159 journalists."
   ]
  },
  {
   "cell_type": "code",
   "execution_count": 15,
   "metadata": {},
   "outputs": [],
   "source": [
    "#What was the number of journalists killed ('status' column) since Oct. 7?"
   ]
  },
  {
   "cell_type": "code",
   "execution_count": 16,
   "metadata": {},
   "outputs": [
    {
     "name": "stdout",
     "output_type": "stream",
     "text": [
      "Number of journalists killed since Oct. 7, 2023: 159\n"
     ]
    }
   ],
   "source": [
    "#Filter for number of journalists killed since Oct. 7, 2023 in filtered_cpj\n",
    "killed_since_oct7 = filtered_cpj[(filtered_cpj['status'] == 'Killed') & (filtered_cpj['Date'] >= '2023-10-07')]\n",
    "#Count the number of journalists killed\n",
    "num_killed_since_oct7 = killed_since_oct7.shape[0]\n",
    "print(f\"Number of journalists killed since Oct. 7, 2023: {num_killed_since_oct7}\")"
   ]
  },
  {
   "cell_type": "code",
   "execution_count": 35,
   "metadata": {},
   "outputs": [
    {
     "name": "stdout",
     "output_type": "stream",
     "text": [
      "                    fullName                              organizations  \\\n",
      "3             Abdallah Alwan  Holy Quran Radio,Midan,Mugtama,Al-Jazeera   \n",
      "5        Abdallah Iyad Breis                Rawafed educational channel   \n",
      "10    Abdel Rahman al-Tanani                                  Freelance   \n",
      "36         Abdul Rahman Bahr                    Palestine Breaking News   \n",
      "38        Abdul Rahman Saima                                  Raqami TV   \n",
      "...                      ...                                        ...   \n",
      "1650  Yasser Mamdouh El-Fady                         Kan'an news agency   \n",
      "1651        Yazan al-Zuweidi                                    Al-Ghad   \n",
      "1655      Yousef Maher Dawas                                  Freelance   \n",
      "1672       Zahraa Abu Skheil                                  Freelance   \n",
      "1679          Zayd Abu Zayed                                Quran Radio   \n",
      "\n",
      "                                           location  status  \\\n",
      "3     Israel and the Occupied Palestinian Territory  Killed   \n",
      "5     Israel and the Occupied Palestinian Territory  Killed   \n",
      "10    Israel and the Occupied Palestinian Territory  Killed   \n",
      "36    Israel and the Occupied Palestinian Territory  Killed   \n",
      "38    Israel and the Occupied Palestinian Territory  Killed   \n",
      "...                                             ...     ...   \n",
      "1650  Israel and the Occupied Palestinian Territory  Killed   \n",
      "1651  Israel and the Occupied Palestinian Territory  Killed   \n",
      "1655  Israel and the Occupied Palestinian Territory  Killed   \n",
      "1672  Israel and the Occupied Palestinian Territory  Killed   \n",
      "1679  Israel and the Occupied Palestinian Territory  Killed   \n",
      "\n",
      "               typeOfDeath       Date  \\\n",
      "3     Dangerous Assignment 2023-12-18   \n",
      "5     Dangerous Assignment 2024-01-08   \n",
      "10    Dangerous Assignment 2023-11-18   \n",
      "36    Dangerous Assignment 2024-10-05   \n",
      "38    Dangerous Assignment 2024-03-14   \n",
      "...                    ...        ...   \n",
      "1650  Dangerous Assignment 2024-02-11   \n",
      "1651  Dangerous Assignment 2024-01-14   \n",
      "1655  Dangerous Assignment 2023-10-14   \n",
      "1672  Dangerous Assignment 2024-11-09   \n",
      "1679  Dangerous Assignment 2024-02-15   \n",
      "\n",
      "                                                 mtpage        type  \\\n",
      "3           https://cpj.org/data/people/abdallah-alwan/  Journalist   \n",
      "5      https://cpj.org/data/people/abdallah-iyad-breis/  Journalist   \n",
      "10    https://cpj.org/data/people/abdel-rahman-al-ta...  Journalist   \n",
      "36       https://cpj.org/data/people/abdul-rahman-bahr/  Journalist   \n",
      "38      https://cpj.org/data/people/abdul-rahman-saima/  Journalist   \n",
      "...                                                 ...         ...   \n",
      "1650  https://cpj.org/data/people/yasser-mamdouh-el-...  Journalist   \n",
      "1651      https://cpj.org/data/people/yazan-al-zuweidi/  Journalist   \n",
      "1655    https://cpj.org/data/people/yousef-maher-dawas/  Journalist   \n",
      "1672     https://cpj.org/data/people/zahraa-abu-skheil/  Journalist   \n",
      "1679        https://cpj.org/data/people/zayd-abu-zayed/  Journalist   \n",
      "\n",
      "     motiveConfirmed  charges  Year  Month  \n",
      "3          Confirmed      NaN  2023     12  \n",
      "5          Confirmed      NaN  2024      1  \n",
      "10         Confirmed      NaN  2023     11  \n",
      "36         Confirmed      NaN  2024     10  \n",
      "38         Confirmed      NaN  2024      3  \n",
      "...              ...      ...   ...    ...  \n",
      "1650       Confirmed      NaN  2024      2  \n",
      "1651       Confirmed      NaN  2024      1  \n",
      "1655       Confirmed      NaN  2023     10  \n",
      "1672       Confirmed      NaN  2024     11  \n",
      "1679       Confirmed      NaN  2024      2  \n",
      "\n",
      "[159 rows x 12 columns]\n"
     ]
    }
   ],
   "source": [
    "# Create a copy of the filtered DataFrame to avoid \"SettingWithCopyWarning\"\n",
    "filtered_cpj = filtered_cpj.copy()\n",
    "\n",
    "# Ensure 'Date' column is in datetime format\n",
    "filtered_cpj['Date'] = pd.to_datetime(filtered_cpj['Date'])\n",
    "\n",
    "# Filter for journalists killed since October 7\n",
    "oct_7_date = datetime.datetime(2023, 10, 7)\n",
    "killed_since_oct7 = filtered_cpj.loc[\n",
    "    (filtered_cpj['status'] == 'Killed') & (filtered_cpj['Date'] >= oct_7_date)\n",
    "].copy()  # Explicitly create a copy of the filtered DataFrame\n",
    "\n",
    "# Add a 'Month' column safely\n",
    "killed_since_oct7['Month'] = killed_since_oct7['Date'].dt.month\n",
    "\n",
    "print(killed_since_oct7)"
   ]
  },
  {
   "cell_type": "code",
   "execution_count": 18,
   "metadata": {},
   "outputs": [],
   "source": [
    "# Add 'Year' column to filtered_cpj DataFrame\n",
    "filtered_cpj['Year'] = filtered_cpj['Date'].dt.year"
   ]
  },
  {
   "cell_type": "markdown",
   "metadata": {},
   "source": [
    "### Finding 3: The number of freelance journalists killed was 47 journalists since Oct. 7, 2023."
   ]
  },
  {
   "cell_type": "code",
   "execution_count": 19,
   "metadata": {},
   "outputs": [],
   "source": [
    "#What was the number of freelance journalists killed ('status' column) since Oct. 7?"
   ]
  },
  {
   "cell_type": "code",
   "execution_count": 20,
   "metadata": {},
   "outputs": [
    {
     "name": "stdout",
     "output_type": "stream",
     "text": [
      "Number of freelance journalists killed since Oct. 7, 2023: 47\n"
     ]
    }
   ],
   "source": [
    "# Filter for number of freelance journalists killed since Oct. 7, 2023 in filtered_cpj\n",
    "freelance_killed_since_oct7 = filtered_cpj[\n",
    "    (filtered_cpj['status'] == 'Killed') & \n",
    "    (filtered_cpj['Date'] >= '2023-10-07') & \n",
    "    (filtered_cpj['organizations'] == 'Freelance')\n",
    "]\n",
    "# Count the number of freelance journalists killed\n",
    "num_freelance_killed_since_oct7 = freelance_killed_since_oct7.shape[0]\n",
    "print(f\"Number of freelance journalists killed since Oct. 7, 2023: {num_freelance_killed_since_oct7}\")"
   ]
  },
  {
   "cell_type": "code",
   "execution_count": 21,
   "metadata": {},
   "outputs": [
    {
     "name": "stdout",
     "output_type": "stream",
     "text": [
      "Freelance journalists killed per year since Oct. 7, 2023:\n",
      "   Year  Freelance Killed\n",
      "0  2023                12\n",
      "1  2024                25\n",
      "2  2025                10\n"
     ]
    }
   ],
   "source": [
    "#Filter freelance journalists killed per year since Oct. 7, 2023\n",
    "freelance_killed_per_year = freelance_killed_since_oct7.groupby('Year').size().reset_index(name='Freelance Killed')\n",
    "print(\"Freelance journalists killed per year since Oct. 7, 2023:\")\n",
    "print(freelance_killed_per_year)"
   ]
  },
  {
   "cell_type": "code",
   "execution_count": 27,
   "metadata": {},
   "outputs": [
    {
     "data": {
      "text/html": [
       "\n",
       "<style>\n",
       "  #altair-viz-b87efc1061264cedaccca58f02e2c957.vega-embed {\n",
       "    width: 100%;\n",
       "    display: flex;\n",
       "  }\n",
       "\n",
       "  #altair-viz-b87efc1061264cedaccca58f02e2c957.vega-embed details,\n",
       "  #altair-viz-b87efc1061264cedaccca58f02e2c957.vega-embed details summary {\n",
       "    position: relative;\n",
       "  }\n",
       "</style>\n",
       "<div id=\"altair-viz-b87efc1061264cedaccca58f02e2c957\"></div>\n",
       "<script type=\"text/javascript\">\n",
       "  var VEGA_DEBUG = (typeof VEGA_DEBUG == \"undefined\") ? {} : VEGA_DEBUG;\n",
       "  (function(spec, embedOpt){\n",
       "    let outputDiv = document.currentScript.previousElementSibling;\n",
       "    if (outputDiv.id !== \"altair-viz-b87efc1061264cedaccca58f02e2c957\") {\n",
       "      outputDiv = document.getElementById(\"altair-viz-b87efc1061264cedaccca58f02e2c957\");\n",
       "    }\n",
       "\n",
       "    const paths = {\n",
       "      \"vega\": \"https://cdn.jsdelivr.net/npm/vega@5?noext\",\n",
       "      \"vega-lib\": \"https://cdn.jsdelivr.net/npm/vega-lib?noext\",\n",
       "      \"vega-lite\": \"https://cdn.jsdelivr.net/npm/vega-lite@5.20.1?noext\",\n",
       "      \"vega-embed\": \"https://cdn.jsdelivr.net/npm/vega-embed@6?noext\",\n",
       "    };\n",
       "\n",
       "    function maybeLoadScript(lib, version) {\n",
       "      var key = `${lib.replace(\"-\", \"\")}_version`;\n",
       "      return (VEGA_DEBUG[key] == version) ?\n",
       "        Promise.resolve(paths[lib]) :\n",
       "        new Promise(function(resolve, reject) {\n",
       "          var s = document.createElement('script');\n",
       "          document.getElementsByTagName(\"head\")[0].appendChild(s);\n",
       "          s.async = true;\n",
       "          s.onload = () => {\n",
       "            VEGA_DEBUG[key] = version;\n",
       "            return resolve(paths[lib]);\n",
       "          };\n",
       "          s.onerror = () => reject(`Error loading script: ${paths[lib]}`);\n",
       "          s.src = paths[lib];\n",
       "        });\n",
       "    }\n",
       "\n",
       "    function showError(err) {\n",
       "      outputDiv.innerHTML = `<div class=\"error\" style=\"color:red;\">${err}</div>`;\n",
       "      throw err;\n",
       "    }\n",
       "\n",
       "    function displayChart(vegaEmbed) {\n",
       "      vegaEmbed(outputDiv, spec, embedOpt)\n",
       "        .catch(err => showError(`Javascript Error: ${err.message}<br>This usually means there's a typo in your chart specification. See the javascript console for the full traceback.`));\n",
       "    }\n",
       "\n",
       "    if(typeof define === \"function\" && define.amd) {\n",
       "      requirejs.config({paths});\n",
       "      let deps = [\"vega-embed\"];\n",
       "      require(deps, displayChart, err => showError(`Error loading script: ${err.message}`));\n",
       "    } else {\n",
       "      maybeLoadScript(\"vega\", \"5\")\n",
       "        .then(() => maybeLoadScript(\"vega-lite\", \"5.20.1\"))\n",
       "        .then(() => maybeLoadScript(\"vega-embed\", \"6\"))\n",
       "        .catch(showError)\n",
       "        .then(() => displayChart(vegaEmbed));\n",
       "    }\n",
       "  })({\"config\": {\"view\": {\"continuousWidth\": 300, \"continuousHeight\": 300}}, \"data\": {\"name\": \"data-824c6c98da0d5d0caa48d47805c9a9c6\"}, \"mark\": {\"type\": \"bar\"}, \"encoding\": {\"color\": {\"field\": \"Freelance Killed\", \"scale\": {\"scheme\": \"blues\"}, \"type\": \"quantitative\"}, \"tooltip\": [{\"field\": \"Year\", \"type\": \"quantitative\"}, {\"field\": \"Freelance Killed\", \"type\": \"quantitative\"}], \"x\": {\"axis\": {\"labelAngle\": 0}, \"field\": \"Year\", \"title\": \"Year\", \"type\": \"ordinal\"}, \"y\": {\"field\": \"Freelance Killed\", \"title\": \"Number of Freelance Journalists Killed\", \"type\": \"quantitative\"}}, \"params\": [{\"name\": \"param_3\", \"select\": {\"type\": \"interval\", \"encodings\": [\"x\", \"y\"]}, \"bind\": \"scales\"}], \"title\": \"Freelance Journalists Killed per Year since Oct. 7, 2023\", \"width\": 800, \"$schema\": \"https://vega.github.io/schema/vega-lite/v5.20.1.json\", \"datasets\": {\"data-824c6c98da0d5d0caa48d47805c9a9c6\": [{\"Year\": 2023, \"Freelance Killed\": 12}, {\"Year\": 2024, \"Freelance Killed\": 25}, {\"Year\": 2025, \"Freelance Killed\": 10}]}}, {\"mode\": \"vega-lite\"});\n",
       "</script>"
      ],
      "text/plain": [
       "alt.Chart(...)"
      ]
     },
     "metadata": {},
     "output_type": "display_data"
    }
   ],
   "source": [
    "# Create a bar chart for the number of freelance journalists killed per year since Oct. 7, 2023\n",
    "bar_chart_freelance_killed = alt.Chart(freelance_killed_per_year).mark_bar().encode(\n",
    "    x=alt.X('Year:O', title='Year', axis=alt.Axis(labelAngle=0)),  # Set x-axis labels horizontal\n",
    "    y=alt.Y('Freelance Killed:Q', title='Number of Freelance Journalists Killed'),\n",
    "    color=alt.Color('Freelance Killed:Q', scale=alt.Scale(scheme='blues')),  # Light-to-dark blue shades\n",
    "    tooltip=['Year', 'Freelance Killed']  # Add hover tooltip\n",
    ").properties(\n",
    "    title='Freelance Journalists Killed per Year since Oct. 7, 2023',\n",
    "    width=800  # Make the chart wider\n",
    ").interactive()  # Enable hover interaction\n",
    "\n",
    "# Display the bar chart\n",
    "bar_chart_freelance_killed.show()"
   ]
  },
  {
   "cell_type": "markdown",
   "metadata": {},
   "source": [
    "### Finding 4: The year that had the highest number of deaths was 2024 with 76 deaths. "
   ]
  },
  {
   "cell_type": "code",
   "execution_count": 23,
   "metadata": {},
   "outputs": [],
   "source": [
    "#Between 2023-2025, what year had the highest number of deaths? Why?"
   ]
  },
  {
   "cell_type": "code",
   "execution_count": 24,
   "metadata": {},
   "outputs": [
    {
     "name": "stdout",
     "output_type": "stream",
     "text": [
      "The year with the highest number of deaths between 2023-2025 is 2024 with 76 deaths.\n"
     ]
    }
   ],
   "source": [
    "# Find the year with the highest number of deaths\n",
    "highest_deaths_year = filtered_cpj[\n",
    "    (filtered_cpj['Date'] >= '2023-01-01') & \n",
    "    (filtered_cpj['Date'] <= '2025-12-31')\n",
    "].groupby('Year').size().reset_index(name='Count').loc[\n",
    "    lambda df: df['Count'].idxmax()\n",
    "]\n",
    "# Print the year with the highest number of deaths\n",
    "print(f\"The year with the highest number of deaths between 2023-2025 is {highest_deaths_year['Year']} with {highest_deaths_year['Count']} deaths.\")"
   ]
  },
  {
   "cell_type": "markdown",
   "metadata": {},
   "source": [
    "### Finding 5: On a global level, the location that experienced the highest number of journalist deaths was ..."
   ]
  },
  {
   "cell_type": "code",
   "execution_count": 32,
   "metadata": {},
   "outputs": [
    {
     "name": "stdout",
     "output_type": "stream",
     "text": [
      "Locations with the highest number of journalist deaths since 1992:\n",
      "                                         location  Deaths\n",
      "46                                           Iraq     193\n",
      "48  Israel and the Occupied Palestinian Territory     178\n",
      "90                                          Syria     145\n",
      "75                                    Philippines      96\n",
      "84                                        Somalia      73\n",
      "70                                       Pakistan      68\n",
      "63                                         Mexico      65\n",
      "43                                          India      61\n",
      "78                                         Russia      60\n",
      "1                                         Algeria      60\n"
     ]
    }
   ],
   "source": [
    "#On a global level, which locations have experienced the highest number of journalist deaths since 1992?\n",
    "# Group by 'location' and count the number of deaths\n",
    "global_deaths = cpj.groupby('location').size().reset_index(name='Deaths')\n",
    "# Sort by the number of deaths in descending order\n",
    "global_deaths_sorted = global_deaths.sort_values(by='Deaths', ascending=False)\n",
    "# Print the top locations with the highest number of journalist deaths\n",
    "print(\"Locations with the highest number of journalist deaths since 1992:\")\n",
    "print(global_deaths_sorted.head(10))  # Display the top 10 locations"
   ]
  },
  {
   "cell_type": "code",
   "execution_count": 40,
   "metadata": {},
   "outputs": [
    {
     "ename": "FileNotFoundError",
     "evalue": "[Errno 2] No such file or directory: 'global_deaths.csv'",
     "output_type": "error",
     "traceback": [
      "\u001b[31m---------------------------------------------------------------------------\u001b[39m",
      "\u001b[31mFileNotFoundError\u001b[39m                         Traceback (most recent call last)",
      "\u001b[36mCell\u001b[39m\u001b[36m \u001b[39m\u001b[32mIn[40]\u001b[39m\u001b[32m, line 2\u001b[39m\n\u001b[32m      1\u001b[39m \u001b[38;5;66;03m# Load the CSV\u001b[39;00m\n\u001b[32m----> \u001b[39m\u001b[32m2\u001b[39m global_deaths = \u001b[43mpd\u001b[49m\u001b[43m.\u001b[49m\u001b[43mread_csv\u001b[49m\u001b[43m(\u001b[49m\u001b[33;43m'\u001b[39;49m\u001b[33;43mglobal_deaths.csv\u001b[39;49m\u001b[33;43m'\u001b[39;49m\u001b[43m)\u001b[49m\n\u001b[32m      3\u001b[39m global_deaths[\u001b[33m'\u001b[39m\u001b[33mYear\u001b[39m\u001b[33m'\u001b[39m] = pd.to_datetime(global_deaths[\u001b[33m'\u001b[39m\u001b[33mYear\u001b[39m\u001b[33m'\u001b[39m], \u001b[38;5;28mformat\u001b[39m=\u001b[33m'\u001b[39m\u001b[33m%\u001b[39m\u001b[33mY\u001b[39m\u001b[33m'\u001b[39m)\n\u001b[32m      5\u001b[39m alt.Chart(global_deaths).mark_circle(\n\u001b[32m      6\u001b[39m     opacity=\u001b[32m0.8\u001b[39m,\n\u001b[32m      7\u001b[39m     stroke=\u001b[33m'\u001b[39m\u001b[33mblack\u001b[39m\u001b[33m'\u001b[39m,\n\u001b[32m   (...)\u001b[39m\u001b[32m     35\u001b[39m     stroke=\u001b[38;5;28;01mNone\u001b[39;00m\n\u001b[32m     36\u001b[39m )\n",
      "\u001b[36mFile \u001b[39m\u001b[32m~/code/cpj_thesis/.venv/lib/python3.13/site-packages/pandas/io/parsers/readers.py:1026\u001b[39m, in \u001b[36mread_csv\u001b[39m\u001b[34m(filepath_or_buffer, sep, delimiter, header, names, index_col, usecols, dtype, engine, converters, true_values, false_values, skipinitialspace, skiprows, skipfooter, nrows, na_values, keep_default_na, na_filter, verbose, skip_blank_lines, parse_dates, infer_datetime_format, keep_date_col, date_parser, date_format, dayfirst, cache_dates, iterator, chunksize, compression, thousands, decimal, lineterminator, quotechar, quoting, doublequote, escapechar, comment, encoding, encoding_errors, dialect, on_bad_lines, delim_whitespace, low_memory, memory_map, float_precision, storage_options, dtype_backend)\u001b[39m\n\u001b[32m   1013\u001b[39m kwds_defaults = _refine_defaults_read(\n\u001b[32m   1014\u001b[39m     dialect,\n\u001b[32m   1015\u001b[39m     delimiter,\n\u001b[32m   (...)\u001b[39m\u001b[32m   1022\u001b[39m     dtype_backend=dtype_backend,\n\u001b[32m   1023\u001b[39m )\n\u001b[32m   1024\u001b[39m kwds.update(kwds_defaults)\n\u001b[32m-> \u001b[39m\u001b[32m1026\u001b[39m \u001b[38;5;28;01mreturn\u001b[39;00m \u001b[43m_read\u001b[49m\u001b[43m(\u001b[49m\u001b[43mfilepath_or_buffer\u001b[49m\u001b[43m,\u001b[49m\u001b[43m \u001b[49m\u001b[43mkwds\u001b[49m\u001b[43m)\u001b[49m\n",
      "\u001b[36mFile \u001b[39m\u001b[32m~/code/cpj_thesis/.venv/lib/python3.13/site-packages/pandas/io/parsers/readers.py:620\u001b[39m, in \u001b[36m_read\u001b[39m\u001b[34m(filepath_or_buffer, kwds)\u001b[39m\n\u001b[32m    617\u001b[39m _validate_names(kwds.get(\u001b[33m\"\u001b[39m\u001b[33mnames\u001b[39m\u001b[33m\"\u001b[39m, \u001b[38;5;28;01mNone\u001b[39;00m))\n\u001b[32m    619\u001b[39m \u001b[38;5;66;03m# Create the parser.\u001b[39;00m\n\u001b[32m--> \u001b[39m\u001b[32m620\u001b[39m parser = \u001b[43mTextFileReader\u001b[49m\u001b[43m(\u001b[49m\u001b[43mfilepath_or_buffer\u001b[49m\u001b[43m,\u001b[49m\u001b[43m \u001b[49m\u001b[43m*\u001b[49m\u001b[43m*\u001b[49m\u001b[43mkwds\u001b[49m\u001b[43m)\u001b[49m\n\u001b[32m    622\u001b[39m \u001b[38;5;28;01mif\u001b[39;00m chunksize \u001b[38;5;129;01mor\u001b[39;00m iterator:\n\u001b[32m    623\u001b[39m     \u001b[38;5;28;01mreturn\u001b[39;00m parser\n",
      "\u001b[36mFile \u001b[39m\u001b[32m~/code/cpj_thesis/.venv/lib/python3.13/site-packages/pandas/io/parsers/readers.py:1620\u001b[39m, in \u001b[36mTextFileReader.__init__\u001b[39m\u001b[34m(self, f, engine, **kwds)\u001b[39m\n\u001b[32m   1617\u001b[39m     \u001b[38;5;28mself\u001b[39m.options[\u001b[33m\"\u001b[39m\u001b[33mhas_index_names\u001b[39m\u001b[33m\"\u001b[39m] = kwds[\u001b[33m\"\u001b[39m\u001b[33mhas_index_names\u001b[39m\u001b[33m\"\u001b[39m]\n\u001b[32m   1619\u001b[39m \u001b[38;5;28mself\u001b[39m.handles: IOHandles | \u001b[38;5;28;01mNone\u001b[39;00m = \u001b[38;5;28;01mNone\u001b[39;00m\n\u001b[32m-> \u001b[39m\u001b[32m1620\u001b[39m \u001b[38;5;28mself\u001b[39m._engine = \u001b[38;5;28;43mself\u001b[39;49m\u001b[43m.\u001b[49m\u001b[43m_make_engine\u001b[49m\u001b[43m(\u001b[49m\u001b[43mf\u001b[49m\u001b[43m,\u001b[49m\u001b[43m \u001b[49m\u001b[38;5;28;43mself\u001b[39;49m\u001b[43m.\u001b[49m\u001b[43mengine\u001b[49m\u001b[43m)\u001b[49m\n",
      "\u001b[36mFile \u001b[39m\u001b[32m~/code/cpj_thesis/.venv/lib/python3.13/site-packages/pandas/io/parsers/readers.py:1880\u001b[39m, in \u001b[36mTextFileReader._make_engine\u001b[39m\u001b[34m(self, f, engine)\u001b[39m\n\u001b[32m   1878\u001b[39m     \u001b[38;5;28;01mif\u001b[39;00m \u001b[33m\"\u001b[39m\u001b[33mb\u001b[39m\u001b[33m\"\u001b[39m \u001b[38;5;129;01mnot\u001b[39;00m \u001b[38;5;129;01min\u001b[39;00m mode:\n\u001b[32m   1879\u001b[39m         mode += \u001b[33m\"\u001b[39m\u001b[33mb\u001b[39m\u001b[33m\"\u001b[39m\n\u001b[32m-> \u001b[39m\u001b[32m1880\u001b[39m \u001b[38;5;28mself\u001b[39m.handles = \u001b[43mget_handle\u001b[49m\u001b[43m(\u001b[49m\n\u001b[32m   1881\u001b[39m \u001b[43m    \u001b[49m\u001b[43mf\u001b[49m\u001b[43m,\u001b[49m\n\u001b[32m   1882\u001b[39m \u001b[43m    \u001b[49m\u001b[43mmode\u001b[49m\u001b[43m,\u001b[49m\n\u001b[32m   1883\u001b[39m \u001b[43m    \u001b[49m\u001b[43mencoding\u001b[49m\u001b[43m=\u001b[49m\u001b[38;5;28;43mself\u001b[39;49m\u001b[43m.\u001b[49m\u001b[43moptions\u001b[49m\u001b[43m.\u001b[49m\u001b[43mget\u001b[49m\u001b[43m(\u001b[49m\u001b[33;43m\"\u001b[39;49m\u001b[33;43mencoding\u001b[39;49m\u001b[33;43m\"\u001b[39;49m\u001b[43m,\u001b[49m\u001b[43m \u001b[49m\u001b[38;5;28;43;01mNone\u001b[39;49;00m\u001b[43m)\u001b[49m\u001b[43m,\u001b[49m\n\u001b[32m   1884\u001b[39m \u001b[43m    \u001b[49m\u001b[43mcompression\u001b[49m\u001b[43m=\u001b[49m\u001b[38;5;28;43mself\u001b[39;49m\u001b[43m.\u001b[49m\u001b[43moptions\u001b[49m\u001b[43m.\u001b[49m\u001b[43mget\u001b[49m\u001b[43m(\u001b[49m\u001b[33;43m\"\u001b[39;49m\u001b[33;43mcompression\u001b[39;49m\u001b[33;43m\"\u001b[39;49m\u001b[43m,\u001b[49m\u001b[43m \u001b[49m\u001b[38;5;28;43;01mNone\u001b[39;49;00m\u001b[43m)\u001b[49m\u001b[43m,\u001b[49m\n\u001b[32m   1885\u001b[39m \u001b[43m    \u001b[49m\u001b[43mmemory_map\u001b[49m\u001b[43m=\u001b[49m\u001b[38;5;28;43mself\u001b[39;49m\u001b[43m.\u001b[49m\u001b[43moptions\u001b[49m\u001b[43m.\u001b[49m\u001b[43mget\u001b[49m\u001b[43m(\u001b[49m\u001b[33;43m\"\u001b[39;49m\u001b[33;43mmemory_map\u001b[39;49m\u001b[33;43m\"\u001b[39;49m\u001b[43m,\u001b[49m\u001b[43m \u001b[49m\u001b[38;5;28;43;01mFalse\u001b[39;49;00m\u001b[43m)\u001b[49m\u001b[43m,\u001b[49m\n\u001b[32m   1886\u001b[39m \u001b[43m    \u001b[49m\u001b[43mis_text\u001b[49m\u001b[43m=\u001b[49m\u001b[43mis_text\u001b[49m\u001b[43m,\u001b[49m\n\u001b[32m   1887\u001b[39m \u001b[43m    \u001b[49m\u001b[43merrors\u001b[49m\u001b[43m=\u001b[49m\u001b[38;5;28;43mself\u001b[39;49m\u001b[43m.\u001b[49m\u001b[43moptions\u001b[49m\u001b[43m.\u001b[49m\u001b[43mget\u001b[49m\u001b[43m(\u001b[49m\u001b[33;43m\"\u001b[39;49m\u001b[33;43mencoding_errors\u001b[39;49m\u001b[33;43m\"\u001b[39;49m\u001b[43m,\u001b[49m\u001b[43m \u001b[49m\u001b[33;43m\"\u001b[39;49m\u001b[33;43mstrict\u001b[39;49m\u001b[33;43m\"\u001b[39;49m\u001b[43m)\u001b[49m\u001b[43m,\u001b[49m\n\u001b[32m   1888\u001b[39m \u001b[43m    \u001b[49m\u001b[43mstorage_options\u001b[49m\u001b[43m=\u001b[49m\u001b[38;5;28;43mself\u001b[39;49m\u001b[43m.\u001b[49m\u001b[43moptions\u001b[49m\u001b[43m.\u001b[49m\u001b[43mget\u001b[49m\u001b[43m(\u001b[49m\u001b[33;43m\"\u001b[39;49m\u001b[33;43mstorage_options\u001b[39;49m\u001b[33;43m\"\u001b[39;49m\u001b[43m,\u001b[49m\u001b[43m \u001b[49m\u001b[38;5;28;43;01mNone\u001b[39;49;00m\u001b[43m)\u001b[49m\u001b[43m,\u001b[49m\n\u001b[32m   1889\u001b[39m \u001b[43m\u001b[49m\u001b[43m)\u001b[49m\n\u001b[32m   1890\u001b[39m \u001b[38;5;28;01massert\u001b[39;00m \u001b[38;5;28mself\u001b[39m.handles \u001b[38;5;129;01mis\u001b[39;00m \u001b[38;5;129;01mnot\u001b[39;00m \u001b[38;5;28;01mNone\u001b[39;00m\n\u001b[32m   1891\u001b[39m f = \u001b[38;5;28mself\u001b[39m.handles.handle\n",
      "\u001b[36mFile \u001b[39m\u001b[32m~/code/cpj_thesis/.venv/lib/python3.13/site-packages/pandas/io/common.py:873\u001b[39m, in \u001b[36mget_handle\u001b[39m\u001b[34m(path_or_buf, mode, encoding, compression, memory_map, is_text, errors, storage_options)\u001b[39m\n\u001b[32m    868\u001b[39m \u001b[38;5;28;01melif\u001b[39;00m \u001b[38;5;28misinstance\u001b[39m(handle, \u001b[38;5;28mstr\u001b[39m):\n\u001b[32m    869\u001b[39m     \u001b[38;5;66;03m# Check whether the filename is to be opened in binary mode.\u001b[39;00m\n\u001b[32m    870\u001b[39m     \u001b[38;5;66;03m# Binary mode does not support 'encoding' and 'newline'.\u001b[39;00m\n\u001b[32m    871\u001b[39m     \u001b[38;5;28;01mif\u001b[39;00m ioargs.encoding \u001b[38;5;129;01mand\u001b[39;00m \u001b[33m\"\u001b[39m\u001b[33mb\u001b[39m\u001b[33m\"\u001b[39m \u001b[38;5;129;01mnot\u001b[39;00m \u001b[38;5;129;01min\u001b[39;00m ioargs.mode:\n\u001b[32m    872\u001b[39m         \u001b[38;5;66;03m# Encoding\u001b[39;00m\n\u001b[32m--> \u001b[39m\u001b[32m873\u001b[39m         handle = \u001b[38;5;28;43mopen\u001b[39;49m\u001b[43m(\u001b[49m\n\u001b[32m    874\u001b[39m \u001b[43m            \u001b[49m\u001b[43mhandle\u001b[49m\u001b[43m,\u001b[49m\n\u001b[32m    875\u001b[39m \u001b[43m            \u001b[49m\u001b[43mioargs\u001b[49m\u001b[43m.\u001b[49m\u001b[43mmode\u001b[49m\u001b[43m,\u001b[49m\n\u001b[32m    876\u001b[39m \u001b[43m            \u001b[49m\u001b[43mencoding\u001b[49m\u001b[43m=\u001b[49m\u001b[43mioargs\u001b[49m\u001b[43m.\u001b[49m\u001b[43mencoding\u001b[49m\u001b[43m,\u001b[49m\n\u001b[32m    877\u001b[39m \u001b[43m            \u001b[49m\u001b[43merrors\u001b[49m\u001b[43m=\u001b[49m\u001b[43merrors\u001b[49m\u001b[43m,\u001b[49m\n\u001b[32m    878\u001b[39m \u001b[43m            \u001b[49m\u001b[43mnewline\u001b[49m\u001b[43m=\u001b[49m\u001b[33;43m\"\u001b[39;49m\u001b[33;43m\"\u001b[39;49m\u001b[43m,\u001b[49m\n\u001b[32m    879\u001b[39m \u001b[43m        \u001b[49m\u001b[43m)\u001b[49m\n\u001b[32m    880\u001b[39m     \u001b[38;5;28;01melse\u001b[39;00m:\n\u001b[32m    881\u001b[39m         \u001b[38;5;66;03m# Binary mode\u001b[39;00m\n\u001b[32m    882\u001b[39m         handle = \u001b[38;5;28mopen\u001b[39m(handle, ioargs.mode)\n",
      "\u001b[31mFileNotFoundError\u001b[39m: [Errno 2] No such file or directory: 'global_deaths.csv'"
     ]
    }
   ],
   "source": [
    "# Load the CSV\n",
    "global_deaths = pd.read_csv('global_deaths.csv')\n",
    "global_deaths['Year'] = pd.to_datetime(global_deaths['Year'], format='%Y')\n",
    "\n",
    "alt.Chart(global_deaths).mark_circle(\n",
    "    opacity=0.8,\n",
    "    stroke='black',\n",
    "    strokeWidth=1,\n",
    "    strokeOpacity=0.4\n",
    ").encode(\n",
    "    alt.X('Year:T')\n",
    "        .title(None)\n",
    "        .scale(domain=[pd.to_datetime('1992'), pd.to_datetime('2025')]),\n",
    "    alt.Y('Deaths:Q')\n",
    "        .title(\"Journalist Deaths\"),\n",
    "    alt.Size('Deaths:Q')\n",
    "        .scale(range=[0, 2500])\n",
    "        .title('Deaths'),\n",
    "    alt.ColorValue('steelblue'),\n",
    "    tooltip=[\n",
    "        alt.Tooltip(\"Year:T\", format='%Y'),\n",
    "        alt.Tooltip(\"Deaths:Q\", format='~s')\n",
    "    ],\n",
    ").properties(\n",
    "    width=450,\n",
    "    height=320,\n",
    "    title=alt.Title(\n",
    "        text=\"Global Journalist Deaths (1992–2025)\",\n",
    "        subtitle=\"Each bubble represents the total journalist deaths in that year\",\n",
    "        anchor='start'\n",
    "    )\n",
    ").configure_axisX(\n",
    "    grid=False\n",
    ").configure_view(\n",
    "    stroke=None\n",
    ")"
   ]
  },
  {
   "cell_type": "code",
   "execution_count": null,
   "metadata": {},
   "outputs": [],
   "source": []
  },
  {
   "cell_type": "code",
   "execution_count": 38,
   "metadata": {},
   "outputs": [
    {
     "data": {
      "text/html": [
       "\n",
       "<style>\n",
       "  #altair-viz-c3b6d216a17d4e04b8e86e1a9ca41772.vega-embed {\n",
       "    width: 100%;\n",
       "    display: flex;\n",
       "  }\n",
       "\n",
       "  #altair-viz-c3b6d216a17d4e04b8e86e1a9ca41772.vega-embed details,\n",
       "  #altair-viz-c3b6d216a17d4e04b8e86e1a9ca41772.vega-embed details summary {\n",
       "    position: relative;\n",
       "  }\n",
       "</style>\n",
       "<div id=\"altair-viz-c3b6d216a17d4e04b8e86e1a9ca41772\"></div>\n",
       "<script type=\"text/javascript\">\n",
       "  var VEGA_DEBUG = (typeof VEGA_DEBUG == \"undefined\") ? {} : VEGA_DEBUG;\n",
       "  (function(spec, embedOpt){\n",
       "    let outputDiv = document.currentScript.previousElementSibling;\n",
       "    if (outputDiv.id !== \"altair-viz-c3b6d216a17d4e04b8e86e1a9ca41772\") {\n",
       "      outputDiv = document.getElementById(\"altair-viz-c3b6d216a17d4e04b8e86e1a9ca41772\");\n",
       "    }\n",
       "\n",
       "    const paths = {\n",
       "      \"vega\": \"https://cdn.jsdelivr.net/npm/vega@5?noext\",\n",
       "      \"vega-lib\": \"https://cdn.jsdelivr.net/npm/vega-lib?noext\",\n",
       "      \"vega-lite\": \"https://cdn.jsdelivr.net/npm/vega-lite@5.20.1?noext\",\n",
       "      \"vega-embed\": \"https://cdn.jsdelivr.net/npm/vega-embed@6?noext\",\n",
       "    };\n",
       "\n",
       "    function maybeLoadScript(lib, version) {\n",
       "      var key = `${lib.replace(\"-\", \"\")}_version`;\n",
       "      return (VEGA_DEBUG[key] == version) ?\n",
       "        Promise.resolve(paths[lib]) :\n",
       "        new Promise(function(resolve, reject) {\n",
       "          var s = document.createElement('script');\n",
       "          document.getElementsByTagName(\"head\")[0].appendChild(s);\n",
       "          s.async = true;\n",
       "          s.onload = () => {\n",
       "            VEGA_DEBUG[key] = version;\n",
       "            return resolve(paths[lib]);\n",
       "          };\n",
       "          s.onerror = () => reject(`Error loading script: ${paths[lib]}`);\n",
       "          s.src = paths[lib];\n",
       "        });\n",
       "    }\n",
       "\n",
       "    function showError(err) {\n",
       "      outputDiv.innerHTML = `<div class=\"error\" style=\"color:red;\">${err}</div>`;\n",
       "      throw err;\n",
       "    }\n",
       "\n",
       "    function displayChart(vegaEmbed) {\n",
       "      vegaEmbed(outputDiv, spec, embedOpt)\n",
       "        .catch(err => showError(`Javascript Error: ${err.message}<br>This usually means there's a typo in your chart specification. See the javascript console for the full traceback.`));\n",
       "    }\n",
       "\n",
       "    if(typeof define === \"function\" && define.amd) {\n",
       "      requirejs.config({paths});\n",
       "      let deps = [\"vega-embed\"];\n",
       "      require(deps, displayChart, err => showError(`Error loading script: ${err.message}`));\n",
       "    } else {\n",
       "      maybeLoadScript(\"vega\", \"5\")\n",
       "        .then(() => maybeLoadScript(\"vega-lite\", \"5.20.1\"))\n",
       "        .then(() => maybeLoadScript(\"vega-embed\", \"6\"))\n",
       "        .catch(showError)\n",
       "        .then(() => displayChart(vegaEmbed));\n",
       "    }\n",
       "  })({\"config\": {\"view\": {\"continuousWidth\": 300, \"continuousHeight\": 300, \"stroke\": null}, \"axisX\": {\"grid\": false}, \"axisY\": {\"domain\": false, \"offset\": 10, \"ticks\": false}}, \"data\": {\"name\": \"data-6243b72ac7f7a24219378b3f7e8e9975\"}, \"mark\": {\"type\": \"circle\", \"opacity\": 0.8, \"stroke\": \"black\", \"strokeOpacity\": 0.4, \"strokeWidth\": 1}, \"encoding\": {\"color\": {\"field\": \"Entity\", \"legend\": null, \"type\": \"nominal\"}, \"size\": {\"field\": \"Deaths\", \"legend\": {\"clipHeight\": 30, \"format\": \"s\"}, \"scale\": {\"range\": [0, 2500]}, \"title\": \"Deaths\", \"type\": \"quantitative\"}, \"tooltip\": [{\"field\": \"Entity\", \"type\": \"nominal\"}, {\"field\": \"Year\", \"format\": \"%Y\", \"type\": \"temporal\"}, {\"field\": \"Deaths\", \"format\": \"~s\", \"type\": \"quantitative\"}], \"x\": {\"field\": \"Year\", \"scale\": {\"domain\": [\"1992\", \"1993\", \"1994\", \"1995\", \"1996\", \"1997\", \"1998\", \"1999\", \"2000\", \"2001\", \"2002\", \"2003\", \"2004\", \"2005\", \"2006\", \"2007\", \"2008\", \"2009\", \"2010\", \"2011\", \"2012\", \"2013\", \"2014\", \"2015\", \"2016\", \"2017\", \"2018\", \"2019\", \"2020\", \"2021\", \"2022\", \"2023\", \"2024\", \"2025\"]}, \"title\": null, \"type\": \"temporal\"}, \"y\": {\"field\": \"Entity\", \"sort\": {\"field\": \"Deaths\", \"op\": \"sum\", \"order\": \"descending\"}, \"title\": null, \"type\": \"nominal\"}}, \"height\": 320, \"title\": {\"text\": \"Global Journalist Deaths (1992-2025)\", \"anchor\": \"start\", \"subtitle\": \"The size of the bubble represents the total death count per year\"}, \"transform\": [{\"filter\": \"(datum.Entity !== 'Global Journalist Deaths')\"}], \"width\": 450, \"$schema\": \"https://vega.github.io/schema/vega-lite/v5.20.1.json\", \"datasets\": {\"data-6243b72ac7f7a24219378b3f7e8e9975\": [{\"fullName\": \"Abdallah Alwan\", \"organizations\": \"Holy Quran Radio,Midan,Mugtama,Al-Jazeera\", \"location\": \"Israel and the Occupied Palestinian Territory\", \"status\": \"Killed\", \"typeOfDeath\": \"Dangerous Assignment\", \"Date\": \"2023-12-18T00:00:00\", \"mtpage\": \"https://cpj.org/data/people/abdallah-alwan/\", \"type\": \"Journalist\", \"motiveConfirmed\": \"Confirmed\", \"charges\": null, \"Year\": 2023}, {\"fullName\": \"Abdallah Iyad Breis\", \"organizations\": \"Rawafed educational channel\", \"location\": \"Israel and the Occupied Palestinian Territory\", \"status\": \"Killed\", \"typeOfDeath\": \"Dangerous Assignment\", \"Date\": \"2024-01-08T00:00:00\", \"mtpage\": \"https://cpj.org/data/people/abdallah-iyad-breis/\", \"type\": \"Journalist\", \"motiveConfirmed\": \"Confirmed\", \"charges\": null, \"Year\": 2024}, {\"fullName\": \"Abdel Rahman al-Tanani\", \"organizations\": \"Freelance\", \"location\": \"Israel and the Occupied Palestinian Territory\", \"status\": \"Killed\", \"typeOfDeath\": \"Dangerous Assignment\", \"Date\": \"2023-11-18T00:00:00\", \"mtpage\": \"https://cpj.org/data/people/abdel-rahman-al-tanani/\", \"type\": \"Journalist\", \"motiveConfirmed\": \"Confirmed\", \"charges\": null, \"Year\": 2023}, {\"fullName\": \"Abdul Rahman Bahr\", \"organizations\": \"Palestine Breaking News\", \"location\": \"Israel and the Occupied Palestinian Territory\", \"status\": \"Killed\", \"typeOfDeath\": \"Dangerous Assignment\", \"Date\": \"2024-10-05T00:00:00\", \"mtpage\": \"https://cpj.org/data/people/abdul-rahman-bahr/\", \"type\": \"Journalist\", \"motiveConfirmed\": \"Confirmed\", \"charges\": null, \"Year\": 2024}, {\"fullName\": \"Abdul Rahman Saima\", \"organizations\": \"Raqami TV\", \"location\": \"Israel and the Occupied Palestinian Territory\", \"status\": \"Killed\", \"typeOfDeath\": \"Dangerous Assignment\", \"Date\": \"2024-03-14T00:00:00\", \"mtpage\": \"https://cpj.org/data/people/abdul-rahman-saima/\", \"type\": \"Journalist\", \"motiveConfirmed\": \"Confirmed\", \"charges\": null, \"Year\": 2024}, {\"fullName\": \"Abdulhadi Habib\", \"organizations\": \"Al-Manara News Agency,HQ media\", \"location\": \"Israel and the Occupied Palestinian Territory\", \"status\": \"Killed\", \"typeOfDeath\": \"Dangerous Assignment\", \"Date\": \"2023-10-16T00:00:00\", \"mtpage\": \"https://cpj.org/data/people/abdulhadi-habib/\", \"type\": \"Journalist\", \"motiveConfirmed\": \"Confirmed\", \"charges\": null, \"Year\": 2023}, {\"fullName\": \"Abdullah Darwish\", \"organizations\": \"Al Aqsa TV\", \"location\": \"Israel and the Occupied Palestinian Territory\", \"status\": \"Killed\", \"typeOfDeath\": \"Dangerous Assignment\", \"Date\": \"2023-12-01T00:00:00\", \"mtpage\": \"https://cpj.org/data/people/abdullah-darwish/\", \"type\": \"Journalist\", \"motiveConfirmed\": \"Confirmed\", \"charges\": null, \"Year\": 2023}, {\"fullName\": \"Adel Zorob\", \"organizations\": \"Freelance\", \"location\": \"Israel and the Occupied Palestinian Territory\", \"status\": \"Killed\", \"typeOfDeath\": \"Dangerous Assignment\", \"Date\": \"2023-12-19T00:00:00\", \"mtpage\": \"https://cpj.org/data/people/adel-zorob/\", \"type\": \"Journalist\", \"motiveConfirmed\": \"Confirmed\", \"charges\": null, \"Year\": 2023}, {\"fullName\": \"Adham Hassouna\", \"organizations\": \"Freelance\", \"location\": \"Israel and the Occupied Palestinian Territory\", \"status\": \"Killed\", \"typeOfDeath\": \"Dangerous Assignment\", \"Date\": \"2023-12-01T00:00:00\", \"mtpage\": \"https://cpj.org/data/people/adham-hassouna/\", \"type\": \"Journalist\", \"motiveConfirmed\": \"Confirmed\", \"charges\": null, \"Year\": 2023}, {\"fullName\": \"Ahmad Jamal al Madhoun\", \"organizations\": \"Al-Rai\", \"location\": \"Israel and the Occupied Palestinian Territory\", \"status\": \"Killed\", \"typeOfDeath\": \"Dangerous Assignment\", \"Date\": \"2023-12-24T00:00:00\", \"mtpage\": \"https://cpj.org/data/people/ahmad-jamal-al-madhoun/\", \"type\": \"Journalist\", \"motiveConfirmed\": \"Confirmed\", \"charges\": null, \"Year\": 2023}, {\"fullName\": \"Ahmed Abu Al-Rous\", \"organizations\": \"Fourth Estate\", \"location\": \"Israel and the Occupied Palestinian Territory\", \"status\": \"Killed\", \"typeOfDeath\": \"Dangerous Assignment\", \"Date\": \"2025-01-15T00:00:00\", \"mtpage\": \"https://cpj.org/data/people/ahmed-abu-al-rous/\", \"type\": \"Journalist\", \"motiveConfirmed\": \"Confirmed\", \"charges\": null, \"Year\": 2025}, {\"fullName\": \"Ahmed Abu Hussein\", \"organizations\": \"Voice of the People Radio,Bisan News Agency\", \"location\": \"Israel and the Occupied Palestinian Territory\", \"status\": \"Killed\", \"typeOfDeath\": \"Murder\", \"Date\": \"2018-04-25T00:00:00\", \"mtpage\": \"https://cpj.org/data/people/ahmed-abu-hussein/\", \"type\": \"Journalist\", \"motiveConfirmed\": \"Confirmed\", \"charges\": null, \"Year\": 2018}, {\"fullName\": \"Ahmed Abu Mhadi\", \"organizations\": \"Al-Aqsa TV\", \"location\": \"Israel and the Occupied Palestinian Territory\", \"status\": \"Killed\", \"typeOfDeath\": \"Dangerous Assignment\", \"Date\": \"2023-10-25T00:00:00\", \"mtpage\": \"https://cpj.org/data/people/ahmed-abu-mhadi/\", \"type\": \"Journalist\", \"motiveConfirmed\": \"Confirmed\", \"charges\": null, \"Year\": 2023}, {\"fullName\": \"Ahmed Abu Sharia\", \"organizations\": \"Freelance\", \"location\": \"Israel and the Occupied Palestinian Territory\", \"status\": \"Killed\", \"typeOfDeath\": \"Dangerous Assignment\", \"Date\": \"2024-11-19T00:00:00\", \"mtpage\": \"https://cpj.org/data/people/ahmed-abu-sharia/\", \"type\": \"Journalist\", \"motiveConfirmed\": \"Confirmed\", \"charges\": null, \"Year\": 2024}, {\"fullName\": \"Ahmed Abu Skheil\", \"organizations\": \"Freelance\", \"location\": \"Israel and the Occupied Palestinian Territory\", \"status\": \"Killed\", \"typeOfDeath\": \"Dangerous Assignment\", \"Date\": \"2024-11-09T00:00:00\", \"mtpage\": \"https://cpj.org/data/people/ahmed-abu-skheil/\", \"type\": \"Journalist\", \"motiveConfirmed\": \"Confirmed\", \"charges\": null, \"Year\": 2024}, {\"fullName\": \"Ahmed Al Shayyah\", \"organizations\": \"Freelance\", \"location\": \"Israel and the Occupied Palestinian Territory\", \"status\": \"Killed\", \"typeOfDeath\": \"Dangerous Assignment\", \"Date\": \"2025-01-15T00:00:00\", \"mtpage\": \"https://cpj.org/data/people/ahmed-al-shayyah/\", \"type\": \"Journalist\", \"motiveConfirmed\": \"Confirmed\", \"charges\": null, \"Year\": 2025}, {\"fullName\": \"Ahmed Al-Helou\", \"organizations\": \"Quds News Network\", \"location\": \"Israel and the Occupied Palestinian Territory\", \"status\": \"Killed\", \"typeOfDeath\": \"Dangerous Assignment\", \"Date\": \"2025-05-15T00:00:00\", \"mtpage\": \"https://cpj.org/data/people/ahmed-al-helou/\", \"type\": \"Journalist\", \"motiveConfirmed\": \"Confirmed\", \"charges\": null, \"Year\": 2025}, {\"fullName\": \"Ahmed Al-Louh\", \"organizations\": \"Freelance\", \"location\": \"Israel and the Occupied Palestinian Territory\", \"status\": \"Killed\", \"typeOfDeath\": \"Dangerous Assignment\", \"Date\": \"2024-12-15T00:00:00\", \"mtpage\": \"https://cpj.org/data/people/ahmed-al-louh/\", \"type\": \"Journalist\", \"motiveConfirmed\": \"Confirmed\", \"charges\": null, \"Year\": 2024}, {\"fullName\": \"Ahmed Al-Qara\", \"organizations\": \"Freelance\", \"location\": \"Israel and the Occupied Palestinian Territory\", \"status\": \"Killed\", \"typeOfDeath\": \"Dangerous Assignment\", \"Date\": \"2023-11-10T00:00:00\", \"mtpage\": \"https://cpj.org/data/people/ahmed-al-qara/\", \"type\": \"Journalist\", \"motiveConfirmed\": \"Confirmed\", \"charges\": null, \"Year\": 2023}, {\"fullName\": \"Ahmed Bdeir\", \"organizations\": \"Bawabat al-Hadaf\", \"location\": \"Israel and the Occupied Palestinian Territory\", \"status\": \"Killed\", \"typeOfDeath\": \"Dangerous Assignment\", \"Date\": \"2024-01-10T00:00:00\", \"mtpage\": \"https://cpj.org/data/people/ahmed-bdeir/\", \"type\": \"Journalist\", \"motiveConfirmed\": \"Confirmed\", \"charges\": null, \"Year\": 2024}, {\"fullName\": \"Ahmed Khaireddine\", \"organizations\": \"Quds Al-Youm TV\", \"location\": \"Israel and the Occupied Palestinian Territory\", \"status\": \"Killed\", \"typeOfDeath\": \"Dangerous Assignment\", \"Date\": \"2023-12-28T00:00:00\", \"mtpage\": \"https://cpj.org/data/people/ahmed-khaireddine/\", \"type\": \"Journalist\", \"motiveConfirmed\": \"Confirmed\", \"charges\": null, \"Year\": 2023}, {\"fullName\": \"Ahmed Mansour\", \"organizations\": \"Palestine Today\", \"location\": \"Israel and the Occupied Palestinian Territory\", \"status\": \"Killed\", \"typeOfDeath\": \"Murder\", \"Date\": \"2025-04-07T00:00:00\", \"mtpage\": \"https://cpj.org/data/people/ahmed-mansour/\", \"type\": \"Journalist\", \"motiveConfirmed\": \"Confirmed\", \"charges\": null, \"Year\": 2025}, {\"fullName\": \"Ahmed Shehab\", \"organizations\": \"Sowt Al-Asra Radio (Radio Voice of the Prisoners)\", \"location\": \"Israel and the Occupied Palestinian Territory\", \"status\": \"Killed\", \"typeOfDeath\": \"Dangerous Assignment\", \"Date\": \"2023-10-12T00:00:00\", \"mtpage\": \"https://cpj.org/data/people/ahmed-shehab/\", \"type\": \"Journalist\", \"motiveConfirmed\": \"Confirmed\", \"charges\": null, \"Year\": 2023}, {\"fullName\": \"Akram ElShafie\", \"organizations\": \"Safa\", \"location\": \"Israel and the Occupied Palestinian Territory\", \"status\": \"Killed\", \"typeOfDeath\": \"Dangerous Assignment\", \"Date\": \"2024-01-05T00:00:00\", \"mtpage\": \"https://cpj.org/data/people/akram-elshafie/\", \"type\": \"Journalist\", \"motiveConfirmed\": \"Confirmed\", \"charges\": null, \"Year\": 2024}, {\"fullName\": \"Alaa Al-Hams\", \"organizations\": \"SND\", \"location\": \"Israel and the Occupied Palestinian Territory\", \"status\": \"Killed\", \"typeOfDeath\": \"Dangerous Assignment\", \"Date\": \"2024-02-12T00:00:00\", \"mtpage\": \"https://cpj.org/data/people/alaa-al-hams/\", \"type\": \"Journalist\", \"motiveConfirmed\": \"Confirmed\", \"charges\": null, \"Year\": 2024}, {\"fullName\": \"AlHassan Hamad\", \"organizations\": \"Freelance, Al Jazeera, Media Town TV\", \"location\": \"Israel and the Occupied Palestinian Territory\", \"status\": \"Killed\", \"typeOfDeath\": \"Dangerous Assignment\", \"Date\": \"2024-10-06T00:00:00\", \"mtpage\": \"https://cpj.org/data/people/alhassan-hamad/\", \"type\": \"Journalist\", \"motiveConfirmed\": \"Confirmed\", \"charges\": null, \"Year\": 2024}, {\"fullName\": \"Amal Zohud\", \"organizations\": \"Freelance\", \"location\": \"Israel and the Occupied Palestinian Territory\", \"status\": \"Killed\", \"typeOfDeath\": \"Dangerous Assignment\", \"Date\": \"2023-11-18T00:00:00\", \"mtpage\": \"https://cpj.org/data/people/amal-zohud/\", \"type\": \"Journalist\", \"motiveConfirmed\": \"Confirmed\", \"charges\": null, \"Year\": 2023}, {\"fullName\": \"Amjad Juhjouh\", \"organizations\": \"Freelance\", \"location\": \"Israel and the Occupied Palestinian Territory\", \"status\": \"Killed\", \"typeOfDeath\": \"Dangerous Assignment\", \"Date\": \"2024-07-06T00:00:00\", \"mtpage\": \"https://cpj.org/data/people/amjad-juhjouh/\", \"type\": \"Journalist\", \"motiveConfirmed\": \"Confirmed\", \"charges\": null, \"Year\": 2024}, {\"fullName\": \"Amr Abu Odeh\", \"organizations\": \"Freelance\", \"location\": \"Israel and the Occupied Palestinian Territory\", \"status\": \"Killed\", \"typeOfDeath\": \"Dangerous Assignment\", \"Date\": \"2024-10-31T00:00:00\", \"mtpage\": \"https://cpj.org/data/people/amr-abu-odeh/\", \"type\": \"Journalist\", \"motiveConfirmed\": \"Confirmed\", \"charges\": null, \"Year\": 2024}, {\"fullName\": \"Angam Ahmad Edwan\", \"organizations\": \"February\", \"location\": \"Israel and the Occupied Palestinian Territory\", \"status\": \"Killed\", \"typeOfDeath\": \"Dangerous Assignment\", \"Date\": \"2024-02-12T00:00:00\", \"mtpage\": \"https://cpj.org/data/people/angam-ahmad-edwan/\", \"type\": \"Journalist\", \"motiveConfirmed\": \"Confirmed\", \"charges\": null, \"Year\": 2024}, {\"fullName\": \"Areej Shaheen\", \"organizations\": \"Freelance\", \"location\": \"Israel and the Occupied Palestinian Territory\", \"status\": \"Killed\", \"typeOfDeath\": \"Dangerous Assignment\", \"Date\": \"2025-01-03T00:00:00\", \"mtpage\": \"https://cpj.org/data/people/areej-shaheen/\", \"type\": \"Journalist\", \"motiveConfirmed\": \"Confirmed\", \"charges\": null, \"Year\": 2025}, {\"fullName\": \"Assem Kamal Moussa\", \"organizations\": \"Palestine Now\", \"location\": \"Israel and the Occupied Palestinian Territory\", \"status\": \"Killed\", \"typeOfDeath\": \"Dangerous Assignment\", \"Date\": \"2023-12-17T00:00:00\", \"mtpage\": \"https://cpj.org/data/people/assem-kamal-moussa/\", \"type\": \"Journalist\", \"motiveConfirmed\": \"Confirmed\", \"charges\": null, \"Year\": 2023}, {\"fullName\": \"Ayat Khadoura\", \"organizations\": \"Freelance\", \"location\": \"Israel and the Occupied Palestinian Territory\", \"status\": \"Killed\", \"typeOfDeath\": \"Dangerous Assignment\", \"Date\": \"2023-11-20T00:00:00\", \"mtpage\": \"https://cpj.org/data/people/ayat-khadoura/\", \"type\": \"Journalist\", \"motiveConfirmed\": \"Confirmed\", \"charges\": null, \"Year\": 2023}, {\"fullName\": \"Ayman Al Gedi\", \"organizations\": \"Al-Quds Al-Youm\", \"location\": \"Israel and the Occupied Palestinian Territory\", \"status\": \"Killed\", \"typeOfDeath\": \"Murder\", \"Date\": \"2024-12-26T00:00:00\", \"mtpage\": \"https://cpj.org/data/people/ayman-al-gedi/\", \"type\": \"Journalist\", \"motiveConfirmed\": \"Confirmed\", \"charges\": null, \"Year\": 2024}, {\"fullName\": \"Ayman Al-Gharbawi\", \"organizations\": \"Freelance\", \"location\": \"Israel and the Occupied Palestinian Territory\", \"status\": \"Killed\", \"typeOfDeath\": \"Dangerous Assignment\", \"Date\": \"2024-04-26T00:00:00\", \"mtpage\": \"https://cpj.org/data/people/ayman-al-gharbawi/\", \"type\": \"Journalist\", \"motiveConfirmed\": \"Confirmed\", \"charges\": null, \"Year\": 2024}, {\"fullName\": \"Ayman Al-Rafati\", \"organizations\": \"Al Mayadeen\", \"location\": \"Israel and the Occupied Palestinian Territory\", \"status\": \"Killed\", \"typeOfDeath\": \"Dangerous Assignment\", \"Date\": \"2024-02-14T00:00:00\", \"mtpage\": \"https://cpj.org/data/people/ayman-al-rafati/\", \"type\": \"Journalist\", \"motiveConfirmed\": \"Confirmed\", \"charges\": null, \"Year\": 2024}, {\"fullName\": \"Bahaaddine Yassine\", \"organizations\": \"Watan Media Agency, Al-Quds News Network\", \"location\": \"Israel and the Occupied Palestinian Territory\", \"status\": \"Killed\", \"typeOfDeath\": \"Dangerous Assignment\", \"Date\": \"2024-05-10T00:00:00\", \"mtpage\": \"https://cpj.org/data/people/bahaaddine-yassine/\", \"type\": \"Journalist\", \"motiveConfirmed\": \"Confirmed\", \"charges\": null, \"Year\": 2024}, {\"fullName\": \"Basil Nabil Ibrahim Faraj\", \"organizations\": \"Palestinian Media and Communication Company\", \"location\": \"Israel and the Occupied Palestinian Territory\", \"status\": \"Killed\", \"typeOfDeath\": \"Crossfire\", \"Date\": \"2009-01-07T00:00:00\", \"mtpage\": \"https://cpj.org/data/people/basil-nabil-ibrahim-faraj/\", \"type\": \"Journalist\", \"motiveConfirmed\": \"Confirmed\", \"charges\": null, \"Year\": 2009}, {\"fullName\": \"Bilal Jadallah\", \"organizations\": \"Press House-Palestine\", \"location\": \"Israel and the Occupied Palestinian Territory\", \"status\": \"Killed\", \"typeOfDeath\": \"Dangerous Assignment\", \"Date\": \"2023-11-19T00:00:00\", \"mtpage\": \"https://cpj.org/data/people/bilal-jadallah/\", \"type\": \"Journalist\", \"motiveConfirmed\": \"Confirmed\", \"charges\": null, \"Year\": 2023}, {\"fullName\": \"Bilal Rajab\", \"organizations\": \"Al-Quds Al-Youm\", \"location\": \"Israel and the Occupied Palestinian Territory\", \"status\": \"Killed\", \"typeOfDeath\": \"Dangerous Assignment\", \"Date\": \"2024-11-01T00:00:00\", \"mtpage\": \"https://cpj.org/data/people/bilal-rajab/\", \"type\": \"Journalist\", \"motiveConfirmed\": \"Confirmed\", \"charges\": null, \"Year\": 2024}, {\"fullName\": \"Duaa Jabbour\", \"organizations\": \"Freelance\", \"location\": \"Israel and the Occupied Palestinian Territory\", \"status\": \"Killed\", \"typeOfDeath\": \"Dangerous Assignment\", \"Date\": \"2023-12-09T00:00:00\", \"mtpage\": \"https://cpj.org/data/people/duaa-jabbour/\", \"type\": \"Journalist\", \"motiveConfirmed\": \"Confirmed\", \"charges\": null, \"Year\": 2023}, {\"fullName\": \"Duaa Sharaf\", \"organizations\": \"Radio Al-Aqsa\", \"location\": \"Israel and the Occupied Palestinian Territory\", \"status\": \"Killed\", \"typeOfDeath\": \"Dangerous Assignment\", \"Date\": \"2023-10-26T00:00:00\", \"mtpage\": \"https://cpj.org/data/people/duaa-sharaf/\", \"type\": \"Journalist\", \"motiveConfirmed\": \"Confirmed\", \"charges\": null, \"Year\": 2023}, {\"fullName\": \"Fadel Shana\", \"organizations\": \"Reuters\", \"location\": \"Israel and the Occupied Palestinian Territory\", \"status\": \"Killed\", \"typeOfDeath\": \"Crossfire\", \"Date\": \"2008-04-16T00:00:00\", \"mtpage\": \"https://cpj.org/data/people/fadel-shana/\", \"type\": \"Journalist\", \"motiveConfirmed\": \"Confirmed\", \"charges\": null, \"Year\": 2008}, {\"fullName\": \"Fadi Hassouna\", \"organizations\": \"Al-Quds Al-Youm\", \"location\": \"Israel and the Occupied Palestinian Territory\", \"status\": \"Killed\", \"typeOfDeath\": \"Murder\", \"Date\": \"2024-12-26T00:00:00\", \"mtpage\": \"https://cpj.org/data/people/fadi-hassouna/\", \"type\": \"Journalist\", \"motiveConfirmed\": \"Confirmed\", \"charges\": null, \"Year\": 2024}, {\"fullName\": \"Faisal Abu Al Qumsan\", \"organizations\": \"Al-Quds Al-Youm\", \"location\": \"Israel and the Occupied Palestinian Territory\", \"status\": \"Killed\", \"typeOfDeath\": \"Murder\", \"Date\": \"2024-12-26T00:00:00\", \"mtpage\": \"https://cpj.org/data/people/faisal-abu-al-qumsan/\", \"type\": \"Journalist\", \"motiveConfirmed\": \"Confirmed\", \"charges\": null, \"Year\": 2024}, {\"fullName\": \"Fatma Hassona\", \"organizations\": \"Freelance\", \"location\": \"Israel and the Occupied Palestinian Territory\", \"status\": \"Killed\", \"typeOfDeath\": \"Dangerous Assignment\", \"Date\": \"2025-04-16T00:00:00\", \"mtpage\": \"https://cpj.org/data/people/fatma-hassona/\", \"type\": \"Journalist\", \"motiveConfirmed\": \"Confirmed\", \"charges\": null, \"Year\": 2025}, {\"fullName\": \"Hamada Al-Yaziji\", \"organizations\": \"Kanaan News Agency, Al-Quds Radio\", \"location\": \"Israel and the Occupied Palestinian Territory\", \"status\": \"Killed\", \"typeOfDeath\": \"Dangerous Assignment\", \"Date\": \"2023-12-03T00:00:00\", \"mtpage\": \"https://cpj.org/data/people/hamada-al-yaziji/\", \"type\": \"Journalist\", \"motiveConfirmed\": \"Confirmed\", \"charges\": null, \"Year\": 2023}, {\"fullName\": \"Hamza Al Dahdouh\", \"organizations\": \"Al-Jazeera\", \"location\": \"Israel and the Occupied Palestinian Territory\", \"status\": \"Killed\", \"typeOfDeath\": \"Murder\", \"Date\": \"2024-01-07T00:00:00\", \"mtpage\": \"https://cpj.org/data/people/hamza-al-dahdouh/\", \"type\": \"Journalist\", \"motiveConfirmed\": \"Confirmed\", \"charges\": null, \"Year\": 2024}, {\"fullName\": \"Hamza Murtaja\", \"organizations\": \"Record Media\", \"location\": \"Israel and the Occupied Palestinian Territory\", \"status\": \"Killed\", \"typeOfDeath\": \"Dangerous Assignment\", \"Date\": \"2024-08-20T00:00:00\", \"mtpage\": \"https://cpj.org/data/people/hamza-murtaja/\", \"type\": \"Journalist\", \"motiveConfirmed\": \"Confirmed\", \"charges\": null, \"Year\": 2024}, {\"fullName\": \"Haneen Baroud\", \"organizations\": \"Al Majedat Media Network\", \"location\": \"Israel and the Occupied Palestinian Territory\", \"status\": \"Killed\", \"typeOfDeath\": \"Dangerous Assignment\", \"Date\": \"2024-10-27T00:00:00\", \"mtpage\": \"https://cpj.org/data/people/haneen-baroud/\", \"type\": \"Journalist\", \"motiveConfirmed\": \"Confirmed\", \"charges\": null, \"Year\": 2024}, {\"fullName\": \"Haneen Kashtan\", \"organizations\": \"TV Al-Kofiya,Baladna Web TV\", \"location\": \"Israel and the Occupied Palestinian Territory\", \"status\": \"Killed\", \"typeOfDeath\": \"Dangerous Assignment\", \"Date\": \"2023-12-17T00:00:00\", \"mtpage\": \"https://cpj.org/data/people/haneen-kashtan/\", \"type\": \"Journalist\", \"motiveConfirmed\": \"Confirmed\", \"charges\": null, \"Year\": 2023}, {\"fullName\": \"Hassan Abu Warda\", \"organizations\": \"Barq Gaza\", \"location\": \"Israel and the Occupied Palestinian Territory\", \"status\": \"Killed\", \"typeOfDeath\": \"Dangerous Assignment\", \"Date\": \"2025-05-25T00:00:00\", \"mtpage\": \"https://cpj.org/data/people/hassan-abu-warda/\", \"type\": \"Journalist\", \"motiveConfirmed\": \"Confirmed\", \"charges\": null, \"Year\": 2025}, {\"fullName\": \"Hassan Al-Qishawi\", \"organizations\": \"Freelance\", \"location\": \"Israel and the Occupied Palestinian Territory\", \"status\": \"Killed\", \"typeOfDeath\": \"Dangerous Assignment\", \"Date\": \"2025-01-02T00:00:00\", \"mtpage\": \"https://cpj.org/data/people/hassan-al-qishawi/\", \"type\": \"Journalist\", \"motiveConfirmed\": \"Confirmed\", \"charges\": null, \"Year\": 2025}, {\"fullName\": \"Hassan Samour\", \"organizations\": \"Al Aqsa Voice Radio\", \"location\": \"Israel and the Occupied Palestinian Territory\", \"status\": \"Killed\", \"typeOfDeath\": \"Dangerous Assignment\", \"Date\": \"2025-05-15T00:00:00\", \"mtpage\": \"https://cpj.org/data/people/hassan-samour/\", \"type\": \"Journalist\", \"motiveConfirmed\": \"Confirmed\", \"charges\": null, \"Year\": 2025}, {\"fullName\": \"Hassouneh Salim\", \"organizations\": \"Freelance\", \"location\": \"Israel and the Occupied Palestinian Territory\", \"status\": \"Killed\", \"typeOfDeath\": \"Dangerous Assignment\", \"Date\": \"2023-11-18T00:00:00\", \"mtpage\": \"https://cpj.org/data/people/hassouneh-salim/\", \"type\": \"Journalist\", \"motiveConfirmed\": \"Confirmed\", \"charges\": null, \"Year\": 2023}, {\"fullName\": \"Heba Al-Abadla\", \"organizations\": \"Al-Azhar Radio\", \"location\": \"Israel and the Occupied Palestinian Territory\", \"status\": \"Killed\", \"typeOfDeath\": \"Dangerous Assignment\", \"Date\": \"2024-01-09T00:00:00\", \"mtpage\": \"https://cpj.org/data/people/heba-al-abadla/\", \"type\": \"Journalist\", \"motiveConfirmed\": \"Confirmed\", \"charges\": null, \"Year\": 2024}, {\"fullName\": \"Hilmi al-Faqaawi\", \"organizations\": \"Palestine Today TV\", \"location\": \"Israel and the Occupied Palestinian Territory\", \"status\": \"Killed\", \"typeOfDeath\": \"Murder\", \"Date\": \"2025-04-07T00:00:00\", \"mtpage\": \"https://cpj.org/data/people/hilmi-al-faqaawi/\", \"type\": \"Journalist\", \"motiveConfirmed\": \"Confirmed\", \"charges\": null, \"Year\": 2025}, {\"fullName\": \"Hisham Alnwajha\", \"organizations\": \"\\u201cKhabar\\u201d News Agency\", \"location\": \"Israel and the Occupied Palestinian Territory\", \"status\": \"Killed\", \"typeOfDeath\": \"Dangerous Assignment\", \"Date\": \"2023-10-09T00:00:00\", \"mtpage\": \"https://cpj.org/data/people/hisham-alnwajha/\", \"type\": \"Journalist\", \"motiveConfirmed\": \"Confirmed\", \"charges\": null, \"Year\": 2023}, {\"fullName\": \"Hossam Shabat\", \"organizations\": \"Freelance\", \"location\": \"Israel and the Occupied Palestinian Territory\", \"status\": \"Killed\", \"typeOfDeath\": \"Murder\", \"Date\": \"2025-03-24T00:00:00\", \"mtpage\": \"https://cpj.org/data/people/hossam-shabat/\", \"type\": \"Journalist\", \"motiveConfirmed\": \"Confirmed\", \"charges\": null, \"Year\": 2025}, {\"fullName\": \"Husam Mubarak\", \"organizations\": \"Al-Aqsa Voice Radio\", \"location\": \"Israel and the Occupied Palestinian Territory\", \"status\": \"Killed\", \"typeOfDeath\": \"Dangerous Assignment\", \"Date\": \"2023-10-13T00:00:00\", \"mtpage\": \"https://cpj.org/data/people/husam-mubarak/\", \"type\": \"Journalist\", \"motiveConfirmed\": \"Confirmed\", \"charges\": null, \"Year\": 2023}, {\"fullName\": \"Hussam al-Dabbaka\", \"organizations\": \"Freelance, Al Quds Al-Youm\", \"location\": \"Israel and the Occupied Palestinian Territory\", \"status\": \"Killed\", \"typeOfDeath\": \"Dangerous Assignment\", \"Date\": \"2024-08-22T00:00:00\", \"mtpage\": \"https://cpj.org/data/people/hussam-al-dabbaka/\", \"type\": \"Journalist\", \"motiveConfirmed\": \"Confirmed\", \"charges\": null, \"Year\": 2024}, {\"fullName\": \"Hussam Salama\", \"organizations\": \"Al-Aqsa\", \"location\": \"Israel and the Occupied Palestinian Territory\", \"status\": \"Killed\", \"typeOfDeath\": \"Crossfire\", \"Date\": \"2012-11-20T00:00:00\", \"mtpage\": \"https://cpj.org/data/people/hussam-salama/\", \"type\": \"Journalist\", \"motiveConfirmed\": \"Confirmed\", \"charges\": null, \"Year\": 2012}, {\"fullName\": \"Ibrahim Al-Gharbawi\", \"organizations\": \"Freelance\", \"location\": \"Israel and the Occupied Palestinian Territory\", \"status\": \"Killed\", \"typeOfDeath\": \"Dangerous Assignment\", \"Date\": \"2024-04-26T00:00:00\", \"mtpage\": \"https://cpj.org/data/people/ibrahim-al-gharbawi/\", \"type\": \"Journalist\", \"motiveConfirmed\": \"Confirmed\", \"charges\": null, \"Year\": 2024}, {\"fullName\": \"Ibrahim Mohammad Lafi\", \"organizations\": \"Ain Media\", \"location\": \"Israel and the Occupied Palestinian Territory\", \"status\": \"Killed\", \"typeOfDeath\": \"Dangerous Assignment\", \"Date\": \"2023-10-07T00:00:00\", \"mtpage\": \"https://cpj.org/data/people/ibrahim-mohammad-lafi/\", \"type\": \"Journalist\", \"motiveConfirmed\": \"Confirmed\", \"charges\": null, \"Year\": 2023}, {\"fullName\": \"Ibrahim Muhareb\", \"organizations\": \"Freelance\", \"location\": \"Israel and the Occupied Palestinian Territory\", \"status\": \"Killed\", \"typeOfDeath\": \"Dangerous Assignment\", \"Date\": \"2024-08-18T00:00:00\", \"mtpage\": \"https://cpj.org/data/people/ibrahim-muhareb/\", \"type\": \"Journalist\", \"motiveConfirmed\": \"Confirmed\", \"charges\": null, \"Year\": 2024}, {\"fullName\": \"Imad Abu Zahra\", \"organizations\": \"Freelance\", \"location\": \"Israel and the Occupied Palestinian Territory\", \"status\": \"Killed\", \"typeOfDeath\": \"Crossfire\", \"Date\": \"2002-07-12T00:00:00\", \"mtpage\": \"https://cpj.org/data/people/imad-abu-zahra/\", \"type\": \"Journalist\", \"motiveConfirmed\": \"Confirmed\", \"charges\": null, \"Year\": 2002}, {\"fullName\": \"Iman Al Shanti\", \"organizations\": \"Freelance\", \"location\": \"Israel and the Occupied Palestinian Territory\", \"status\": \"Killed\", \"typeOfDeath\": \"Dangerous Assignment\", \"Date\": \"2024-12-11T00:00:00\", \"mtpage\": \"https://cpj.org/data/people/iman-al-shanti/\", \"type\": \"Journalist\", \"motiveConfirmed\": \"Confirmed\", \"charges\": null, \"Year\": 2024}, {\"fullName\": \"Ismail Al Ghoul\", \"organizations\": \"Al Jazeera Arabic\", \"location\": \"Israel and the Occupied Palestinian Territory\", \"status\": \"Killed\", \"typeOfDeath\": \"Murder\", \"Date\": \"2024-07-31T00:00:00\", \"mtpage\": \"https://cpj.org/data/people/ismail-al-ghoul/\", \"type\": \"Journalist\", \"motiveConfirmed\": \"Confirmed\", \"charges\": null, \"Year\": 2024}, {\"fullName\": \"Issam Bhar\", \"organizations\": \"Al-Aqsa TV\", \"location\": \"Israel and the Occupied Palestinian Territory\", \"status\": \"Killed\", \"typeOfDeath\": \"Dangerous Assignment\", \"Date\": \"2023-10-17T00:00:00\", \"mtpage\": \"https://cpj.org/data/people/issam-bhar/\", \"type\": \"Journalist\", \"motiveConfirmed\": \"Confirmed\", \"charges\": null, \"Year\": 2023}, {\"fullName\": \"Issam Tillawi\", \"organizations\": \"Voice of Palestine\", \"location\": \"Israel and the Occupied Palestinian Territory\", \"status\": \"Killed\", \"typeOfDeath\": \"Dangerous Assignment\", \"Date\": \"2002-09-22T00:00:00\", \"mtpage\": \"https://cpj.org/data/people/issam-tillawi/\", \"type\": \"Journalist\", \"motiveConfirmed\": \"Confirmed\", \"charges\": null, \"Year\": 2002}, {\"fullName\": \"Iyad El-Ruwagh\", \"organizations\": \"Al-Aqsa Voice Radio\", \"location\": \"Israel and the Occupied Palestinian Territory\", \"status\": \"Killed\", \"typeOfDeath\": \"Dangerous Assignment\", \"Date\": \"2024-01-25T00:00:00\", \"mtpage\": \"https://cpj.org/data/people/iyad-el-ruwagh/\", \"type\": \"Journalist\", \"motiveConfirmed\": \"Confirmed\", \"charges\": null, \"Year\": 2024}, {\"fullName\": \"Iyad Matar\", \"organizations\": \"Al-Aqsa TV\", \"location\": \"Israel and the Occupied Palestinian Territory\", \"status\": \"Killed\", \"typeOfDeath\": \"Dangerous Assignment\", \"Date\": \"2023-11-01T00:00:00\", \"mtpage\": \"https://cpj.org/data/people/iyad-matar/\", \"type\": \"Journalist\", \"motiveConfirmed\": \"Confirmed\", \"charges\": null, \"Year\": 2023}, {\"fullName\": \"Jabr Abu Hadrous\", \"organizations\": \"Quds Al-Youm\", \"location\": \"Israel and the Occupied Palestinian Territory\", \"status\": \"Killed\", \"typeOfDeath\": \"Dangerous Assignment\", \"Date\": \"2023-12-29T00:00:00\", \"mtpage\": \"https://cpj.org/data/people/jabr-abu-hadrous/\", \"type\": \"Journalist\", \"motiveConfirmed\": \"Confirmed\", \"charges\": null, \"Year\": 2023}, {\"fullName\": \"Jamal Al-Faqaawi\", \"organizations\": \"Mithaq Media Foundation\", \"location\": \"Israel and the Occupied Palestinian Territory\", \"status\": \"Killed\", \"typeOfDeath\": \"Dangerous Assignment\", \"Date\": \"2023-10-25T00:00:00\", \"mtpage\": \"https://cpj.org/data/people/jamal-al-faqaawi/\", \"type\": \"Journalist\", \"motiveConfirmed\": \"Confirmed\", \"charges\": null, \"Year\": 2023}, {\"fullName\": \"Jamal Mohamed Haniyeh\", \"organizations\": \"Amwaj\", \"location\": \"Israel and the Occupied Palestinian Territory\", \"status\": \"Killed\", \"typeOfDeath\": \"Dangerous Assignment\", \"Date\": \"2023-11-21T00:00:00\", \"mtpage\": \"https://cpj.org/data/people/jamal-mohamed-haniyeh/\", \"type\": \"Journalist\", \"motiveConfirmed\": \"Confirmed\", \"charges\": null, \"Year\": 2023}, {\"fullName\": \"James Miller\", \"organizations\": \"Freelance\", \"location\": \"Israel and the Occupied Palestinian Territory\", \"status\": \"Killed\", \"typeOfDeath\": \"Crossfire\", \"Date\": \"2003-05-02T00:00:00\", \"mtpage\": \"https://cpj.org/data/people/james-miller/\", \"type\": \"Journalist\", \"motiveConfirmed\": \"Confirmed\", \"charges\": null, \"Year\": 2003}, {\"fullName\": \"Khaled Reyadh Hamad\", \"organizations\": \"Continue Production Films\", \"location\": \"Israel and the Occupied Palestinian Territory\", \"status\": \"Killed\", \"typeOfDeath\": \"Crossfire\", \"Date\": \"2014-07-20T00:00:00\", \"mtpage\": \"https://cpj.org/data/people/khaled-reyadh-hamad/\", \"type\": \"Journalist\", \"motiveConfirmed\": \"Confirmed\", \"charges\": null, \"Year\": 2014}, {\"fullName\": \"Khalil Abu Aathra\", \"organizations\": \"Al-Aqsa TV\", \"location\": \"Israel and the Occupied Palestinian Territory\", \"status\": \"Killed\", \"typeOfDeath\": \"Dangerous Assignment\", \"Date\": \"2023-10-19T00:00:00\", \"mtpage\": \"https://cpj.org/data/people/khalil-abu-aathra/\", \"type\": \"Journalist\", \"motiveConfirmed\": \"Confirmed\", \"charges\": null, \"Year\": 2023}, {\"fullName\": \"Mahmoud al-Kumi\", \"organizations\": \"Al-Aqsa\", \"location\": \"Israel and the Occupied Palestinian Territory\", \"status\": \"Killed\", \"typeOfDeath\": \"Crossfire\", \"Date\": \"2012-11-20T00:00:00\", \"mtpage\": \"https://cpj.org/data/people/mahmoud-al-kumi/\", \"type\": \"Journalist\", \"motiveConfirmed\": \"Confirmed\", \"charges\": null, \"Year\": 2012}, {\"fullName\": \"Mahmoud Islim Al-Basos\", \"organizations\": \"Freelance\", \"location\": \"Israel and the Occupied Palestinian Territory\", \"status\": \"Killed\", \"typeOfDeath\": \"Murder\", \"Date\": \"2025-03-15T00:00:00\", \"mtpage\": \"https://cpj.org/data/people/mahmoud-islim-al-basos/\", \"type\": \"Journalist\", \"motiveConfirmed\": \"Confirmed\", \"charges\": null, \"Year\": 2025}, {\"fullName\": \"Mahmoud Juhjouh\", \"organizations\": \"Palestine Post\", \"location\": \"Israel and the Occupied Palestinian Territory\", \"status\": \"Killed\", \"typeOfDeath\": \"Dangerous Assignment\", \"Date\": \"2024-05-16T00:00:00\", \"mtpage\": \"https://cpj.org/data/people/mahmoud-juhjouh/\", \"type\": \"Journalist\", \"motiveConfirmed\": \"Confirmed\", \"charges\": null, \"Year\": 2024}, {\"fullName\": \"Maisara Ahmed Salah\", \"organizations\": \"Freelance\", \"location\": \"Israel and the Occupied Palestinian Territory\", \"status\": \"Killed\", \"typeOfDeath\": \"Dangerous Assignment\", \"Date\": \"2024-11-30T00:00:00\", \"mtpage\": \"https://cpj.org/data/people/maisara-ahmed-salah/\", \"type\": \"Journalist\", \"motiveConfirmed\": \"Confirmed\", \"charges\": null, \"Year\": 2024}, {\"fullName\": \"Majd Fadl Arandas\", \"organizations\": \"Al-Jamaheer\", \"location\": \"Israel and the Occupied Palestinian Territory\", \"status\": \"Killed\", \"typeOfDeath\": \"Dangerous Assignment\", \"Date\": \"2023-11-01T00:00:00\", \"mtpage\": \"https://cpj.org/data/people/majd-fadl-arandas/\", \"type\": \"Journalist\", \"motiveConfirmed\": \"Confirmed\", \"charges\": null, \"Year\": 2023}, {\"fullName\": \"Mamdouh Qanita\", \"organizations\": \"Al-Aqsa TV\", \"location\": \"Israel and the Occupied Palestinian Territory\", \"status\": \"Killed\", \"typeOfDeath\": \"Dangerous Assignment\", \"Date\": \"2024-11-30T00:00:00\", \"mtpage\": \"https://cpj.org/data/people/mamdouh-qanita/\", \"type\": \"Journalist\", \"motiveConfirmed\": \"Confirmed\", \"charges\": null, \"Year\": 2024}, {\"fullName\": \"Marwan Al Sawaf\", \"organizations\": \"Alef Multimedia\", \"location\": \"Israel and the Occupied Palestinian Territory\", \"status\": \"Killed\", \"typeOfDeath\": \"Dangerous Assignment\", \"Date\": \"2023-12-01T00:00:00\", \"mtpage\": \"https://cpj.org/data/people/marwan-al-sawaf/\", \"type\": \"Journalist\", \"motiveConfirmed\": \"Confirmed\", \"charges\": null, \"Year\": 2023}, {\"fullName\": \"Mohamad Al-Bayyari\", \"organizations\": \"Al-Aqsa TV\", \"location\": \"Israel and the Occupied Palestinian Territory\", \"status\": \"Killed\", \"typeOfDeath\": \"Dangerous Assignment\", \"Date\": \"2023-11-02T00:00:00\", \"mtpage\": \"https://cpj.org/data/people/mohamad-al-bayyari/\", \"type\": \"Journalist\", \"motiveConfirmed\": \"Confirmed\", \"charges\": null, \"Year\": 2023}, {\"fullName\": \"Mohamad Al-Iff\", \"organizations\": \"Al-Rai\", \"location\": \"Israel and the Occupied Palestinian Territory\", \"status\": \"Killed\", \"typeOfDeath\": \"Dangerous Assignment\", \"Date\": \"2023-12-24T00:00:00\", \"mtpage\": \"https://cpj.org/data/people/mohamad-al-iff/\", \"type\": \"Journalist\", \"motiveConfirmed\": \"Confirmed\", \"charges\": null, \"Year\": 2023}, {\"fullName\": \"Mohamed Abu Halima\", \"organizations\": \"An-Najah National University Radio\", \"location\": \"Israel and the Occupied Palestinian Territory\", \"status\": \"Killed\", \"typeOfDeath\": \"Crossfire\", \"Date\": \"2004-03-22T00:00:00\", \"mtpage\": \"https://cpj.org/data/people/mohamed-abu-halima/\", \"type\": \"Journalist\", \"motiveConfirmed\": \"Confirmed\", \"charges\": null, \"Year\": 2004}, {\"fullName\": \"Mohamed Abu Hassira\", \"organizations\": \"WAFA\", \"location\": \"Israel and the Occupied Palestinian Territory\", \"status\": \"Killed\", \"typeOfDeath\": \"Dangerous Assignment\", \"Date\": \"2023-11-07T00:00:00\", \"mtpage\": \"https://cpj.org/data/people/mohamed-abu-hassira/\", \"type\": \"Journalist\", \"motiveConfirmed\": \"Confirmed\", \"charges\": null, \"Year\": 2023}, {\"fullName\": \"Mohamed El Sayed Abu Skheil\", \"organizations\": \"Al-Quds Radio\", \"location\": \"Israel and the Occupied Palestinian Territory\", \"status\": \"Killed\", \"typeOfDeath\": \"Dangerous Assignment\", \"Date\": \"2024-03-18T00:00:00\", \"mtpage\": \"https://cpj.org/data/people/mohamed-el-sayed-abu-skheil/\", \"type\": \"Journalist\", \"motiveConfirmed\": \"Confirmed\", \"charges\": null, \"Year\": 2024}, {\"fullName\": \"Mohamed El-Reefi\", \"organizations\": \"Freelance\", \"location\": \"Israel and the Occupied Palestinian Territory\", \"status\": \"Killed\", \"typeOfDeath\": \"Dangerous Assignment\", \"Date\": \"2024-03-15T00:00:00\", \"mtpage\": \"https://cpj.org/data/people/mohamed-el-reefi/\", \"type\": \"Journalist\", \"motiveConfirmed\": \"Confirmed\", \"charges\": null, \"Year\": 2024}, {\"fullName\": \"Mohamed Jamal Sobhi Al-Thalathini\", \"organizations\": \"Al-Quds Al-Youm\", \"location\": \"Israel and the Occupied Palestinian Territory\", \"status\": \"Killed\", \"typeOfDeath\": \"Dangerous Assignment\", \"Date\": \"2024-01-11T00:00:00\", \"mtpage\": \"https://cpj.org/data/people/mohamed-jamal-sobhi-al-thalathini/\", \"type\": \"Journalist\", \"motiveConfirmed\": \"Confirmed\", \"charges\": null, \"Year\": 2024}, {\"fullName\": \"Mohamed Manhal Abu Armana\", \"organizations\": \"Palestine Now\", \"location\": \"Israel and the Occupied Palestinian Territory\", \"status\": \"Killed\", \"typeOfDeath\": \"Dangerous Assignment\", \"Date\": \"2024-07-13T00:00:00\", \"mtpage\": \"https://cpj.org/data/people/mohamed-manhal-abu-armana/\", \"type\": \"Journalist\", \"motiveConfirmed\": \"Confirmed\", \"charges\": null, \"Year\": 2024}, {\"fullName\": \"Mohamed Meshmesh\", \"organizations\": \"Al-Aqsa Voice Radio\", \"location\": \"Israel and the Occupied Palestinian Territory\", \"status\": \"Killed\", \"typeOfDeath\": \"Dangerous Assignment\", \"Date\": \"2024-07-15T00:00:00\", \"mtpage\": \"https://cpj.org/data/people/mohamed-meshmesh/\", \"type\": \"Journalist\", \"motiveConfirmed\": \"Confirmed\", \"charges\": null, \"Year\": 2024}, {\"fullName\": \"Mohamed Mouin Ayyash\", \"organizations\": \"Freelance\", \"location\": \"Israel and the Occupied Palestinian Territory\", \"status\": \"Killed\", \"typeOfDeath\": \"Dangerous Assignment\", \"Date\": \"2023-11-23T00:00:00\", \"mtpage\": \"https://cpj.org/data/people/mohamed-mouin-ayyash/\", \"type\": \"Journalist\", \"motiveConfirmed\": \"Confirmed\", \"charges\": null, \"Year\": 2023}, {\"fullName\": \"Mohamed Nabil Al-Zaq\", \"organizations\": \"Al Quds\", \"location\": \"Israel and the Occupied Palestinian Territory\", \"status\": \"Killed\", \"typeOfDeath\": \"Dangerous Assignment\", \"Date\": \"2023-11-22T00:00:00\", \"mtpage\": \"https://cpj.org/data/people/mohamed-nabil-al-zaq/\", \"type\": \"Journalist\", \"motiveConfirmed\": \"Confirmed\", \"charges\": null, \"Year\": 2023}, {\"fullName\": \"Mohamed Naser Abu Huwaidi\", \"organizations\": \"Al-Istiklal\", \"location\": \"Israel and the Occupied Palestinian Territory\", \"status\": \"Killed\", \"typeOfDeath\": \"Dangerous Assignment\", \"Date\": \"2023-12-23T00:00:00\", \"mtpage\": \"https://cpj.org/data/people/mohamed-naser-abu-huwaidi/\", \"type\": \"Journalist\", \"motiveConfirmed\": \"Confirmed\", \"charges\": null, \"Year\": 2023}, {\"fullName\": \"Mohamed Yaghi\", \"organizations\": \"Freelance\", \"location\": \"Israel and the Occupied Palestinian Territory\", \"status\": \"Killed\", \"typeOfDeath\": \"Dangerous Assignment\", \"Date\": \"2024-02-23T00:00:00\", \"mtpage\": \"https://cpj.org/data/people/mohamed-yaghi/\", \"type\": \"Journalist\", \"motiveConfirmed\": \"Confirmed\", \"charges\": null, \"Year\": 2024}, {\"fullName\": \"Mohammad Balousha\", \"organizations\": \"Palestine Today\", \"location\": \"Israel and the Occupied Palestinian Territory\", \"status\": \"Killed\", \"typeOfDeath\": \"Dangerous Assignment\", \"Date\": \"2023-10-17T00:00:00\", \"mtpage\": \"https://cpj.org/data/people/mohammad-balousha/\", \"type\": \"Journalist\", \"motiveConfirmed\": \"Confirmed\", \"charges\": null, \"Year\": 2023}, {\"fullName\": \"Mohammad Jarghoun\", \"organizations\": \"Smart Media\", \"location\": \"Israel and the Occupied Palestinian Territory\", \"status\": \"Killed\", \"typeOfDeath\": \"Dangerous Assignment\", \"Date\": \"2023-10-07T00:00:00\", \"mtpage\": \"https://cpj.org/data/people/mohammad-jarghoun/\", \"type\": \"Journalist\", \"motiveConfirmed\": \"Confirmed\", \"charges\": null, \"Year\": 2023}, {\"fullName\": \"Mohammed Abed Rabbo\", \"organizations\": \"Al-Manara Agency\", \"location\": \"Israel and the Occupied Palestinian Territory\", \"status\": \"Killed\", \"typeOfDeath\": \"Dangerous Assignment\", \"Date\": \"2024-08-27T00:00:00\", \"mtpage\": \"https://cpj.org/data/people/mohammed-abed-rabbo/\", \"type\": \"Journalist\", \"motiveConfirmed\": \"Confirmed\", \"charges\": null, \"Year\": 2024}, {\"fullName\": \"Mohammed Abu Daqqa\", \"organizations\": \"Freelance, Al-Hadath\", \"location\": \"Israel and the Occupied Palestinian Territory\", \"status\": \"Killed\", \"typeOfDeath\": \"Dangerous Assignment\", \"Date\": \"2024-07-29T00:00:00\", \"mtpage\": \"https://cpj.org/data/people/mohammed-abu-daqqa/\", \"type\": \"Journalist\", \"motiveConfirmed\": \"Confirmed\", \"charges\": null, \"Year\": 2024}, {\"fullName\": \"Mohammed Abu Hatab\", \"organizations\": \"Palestine TV\", \"location\": \"Israel and the Occupied Palestinian Territory\", \"status\": \"Killed\", \"typeOfDeath\": \"Dangerous Assignment\", \"Date\": \"2023-11-02T00:00:00\", \"mtpage\": \"https://cpj.org/data/people/mohammed-abu-hatab/\", \"type\": \"Journalist\", \"motiveConfirmed\": \"Confirmed\", \"charges\": null, \"Year\": 2023}, {\"fullName\": \"Mohammed Abu Jasser\", \"organizations\": \"Al-Risala, Felesteen\", \"location\": \"Israel and the Occupied Palestinian Territory\", \"status\": \"Killed\", \"typeOfDeath\": \"Dangerous Assignment\", \"Date\": \"2024-07-20T00:00:00\", \"mtpage\": \"https://cpj.org/data/people/mohammed-abu-jasser/\", \"type\": \"Journalist\", \"motiveConfirmed\": \"Confirmed\", \"charges\": null, \"Year\": 2024}, {\"fullName\": \"Mohammed Abu Sharia\", \"organizations\": \"Shams News Agency\", \"location\": \"Israel and the Occupied Palestinian Territory\", \"status\": \"Killed\", \"typeOfDeath\": \"Dangerous Assignment\", \"Date\": \"2024-07-01T00:00:00\", \"mtpage\": \"https://cpj.org/data/people/mohammed-abu-sharia/\", \"type\": \"Journalist\", \"motiveConfirmed\": \"Confirmed\", \"charges\": null, \"Year\": 2024}, {\"fullName\": \"Mohammed Al Qrinawi\", \"organizations\": \"Snd News Agency\", \"location\": \"Israel and the Occupied Palestinian Territory\", \"status\": \"Killed\", \"typeOfDeath\": \"Dangerous Assignment\", \"Date\": \"2024-12-14T00:00:00\", \"mtpage\": \"https://cpj.org/data/people/mohammed-al-qrinawi/\", \"type\": \"Journalist\", \"motiveConfirmed\": \"Confirmed\", \"charges\": null, \"Year\": 2024}, {\"fullName\": \"Mohammed Al-Ladaa\", \"organizations\": \"Al Quds Al-Youm\", \"location\": \"Israel and the Occupied Palestinian Territory\", \"status\": \"Killed\", \"typeOfDeath\": \"Murder\", \"Date\": \"2024-12-26T00:00:00\", \"mtpage\": \"https://cpj.org/data/people/mohammed-al-ladaa/\", \"type\": \"Journalist\", \"motiveConfirmed\": \"Confirmed\", \"charges\": null, \"Year\": 2024}, {\"fullName\": \"Mohammed Al-Salhi\", \"organizations\": \"Fourth Authority news agency\", \"location\": \"Israel and the Occupied Palestinian Territory\", \"status\": \"Killed\", \"typeOfDeath\": \"Dangerous Assignment\", \"Date\": \"2023-10-07T00:00:00\", \"mtpage\": \"https://cpj.org/data/people/mohammed-al-salhi/\", \"type\": \"Journalist\", \"motiveConfirmed\": \"Confirmed\", \"charges\": null, \"Year\": 2023}, {\"fullName\": \"Mohammed Al-Sharafi\", \"organizations\": \"Freelance\", \"location\": \"Israel and the Occupied Palestinian Territory\", \"status\": \"Killed\", \"typeOfDeath\": \"Dangerous Assignment\", \"Date\": \"2024-12-18T00:00:00\", \"mtpage\": \"https://cpj.org/data/people/mohammed-al-sharafi/\", \"type\": \"Journalist\", \"motiveConfirmed\": \"Confirmed\", \"charges\": null, \"Year\": 2024}, {\"fullName\": \"Mohammed Al-Talmas\", \"organizations\": \"Safa News Agency\", \"location\": \"Israel and the Occupied Palestinian Territory\", \"status\": \"Killed\", \"typeOfDeath\": \"Dangerous Assignment\", \"Date\": \"2025-01-14T00:00:00\", \"mtpage\": \"https://cpj.org/data/people/mohammed-al-talmas/\", \"type\": \"Journalist\", \"motiveConfirmed\": \"Confirmed\", \"charges\": null, \"Year\": 2025}, {\"fullName\": \"Mohammed Al-Tanani\", \"organizations\": \"Al-Aqsa TV\", \"location\": \"Israel and the Occupied Palestinian Territory\", \"status\": \"Killed\", \"typeOfDeath\": \"Dangerous Assignment\", \"Date\": \"2024-10-09T00:00:00\", \"mtpage\": \"https://cpj.org/data/people/mohammed-al-tanani/\", \"type\": \"Journalist\", \"motiveConfirmed\": \"Confirmed\", \"charges\": null, \"Year\": 2024}, {\"fullName\": \"Mohammed Ali\", \"organizations\": \"Al-Shabab Radio (Youth Radio)\", \"location\": \"Israel and the Occupied Palestinian Territory\", \"status\": \"Killed\", \"typeOfDeath\": \"Dangerous Assignment\", \"Date\": \"2023-10-20T00:00:00\", \"mtpage\": \"https://cpj.org/data/people/mohammed-ali/\", \"type\": \"Journalist\", \"motiveConfirmed\": \"Confirmed\", \"charges\": null, \"Year\": 2023}, {\"fullName\": \"Mohammed Atallah\", \"organizations\": \"Al-Resalah,Raseef22\", \"location\": \"Israel and the Occupied Palestinian Territory\", \"status\": \"Killed\", \"typeOfDeath\": \"Dangerous Assignment\", \"Date\": \"2024-01-29T00:00:00\", \"mtpage\": \"https://cpj.org/data/people/mohammed-atallah/\", \"type\": \"Journalist\", \"motiveConfirmed\": \"Confirmed\", \"charges\": null, \"Year\": 2024}, {\"fullName\": \"Mohammed Balousha\", \"organizations\": \"Al Mashhad Media\", \"location\": \"Israel and the Occupied Palestinian Territory\", \"status\": \"Killed\", \"typeOfDeath\": \"Dangerous Assignment\", \"Date\": \"2024-12-14T00:00:00\", \"mtpage\": \"https://cpj.org/data/people/mohamed-balousha/\", \"type\": \"Journalist\", \"motiveConfirmed\": \"Confirmed\", \"charges\": null, \"Year\": 2024}, {\"fullName\": \"Mohammed Bassam Al Jamal\", \"organizations\": \"Palestine Now\", \"location\": \"Israel and the Occupied Palestinian Territory\", \"status\": \"Killed\", \"typeOfDeath\": \"Dangerous Assignment\", \"Date\": \"2024-04-25T00:00:00\", \"mtpage\": \"https://cpj.org/data/people/mohammed-al-jamal/\", \"type\": \"Journalist\", \"motiveConfirmed\": \"Confirmed\", \"charges\": null, \"Year\": 2024}, {\"fullName\": \"Mohammed Imad Labad\", \"organizations\": \"Al Resalah\", \"location\": \"Israel and the Occupied Palestinian Territory\", \"status\": \"Killed\", \"typeOfDeath\": \"Dangerous Assignment\", \"Date\": \"2023-10-23T00:00:00\", \"mtpage\": \"https://cpj.org/data/people/mohammed-imad-labad/\", \"type\": \"Journalist\", \"motiveConfirmed\": \"Confirmed\", \"charges\": null, \"Year\": 2023}, {\"fullName\": \"Mohammed Issa Abu Saada\", \"organizations\": \"Freelance\", \"location\": \"Israel and the Occupied Palestinian Territory\", \"status\": \"Killed\", \"typeOfDeath\": \"Dangerous Assignment\", \"Date\": \"2024-08-06T00:00:00\", \"mtpage\": \"https://cpj.org/data/people/mohammed-issa-abu-saada/\", \"type\": \"Journalist\", \"motiveConfirmed\": \"Confirmed\", \"charges\": null, \"Year\": 2024}, {\"fullName\": \"Mohammed Mansour\", \"organizations\": \"Freelance\", \"location\": \"Israel and the Occupied Palestinian Territory\", \"status\": \"Killed\", \"typeOfDeath\": \"Dangerous Assignment\", \"Date\": \"2025-03-24T00:00:00\", \"mtpage\": \"https://cpj.org/data/people/mohammed-mansour/\", \"type\": \"Journalist\", \"motiveConfirmed\": \"Confirmed\", \"charges\": null, \"Year\": 2025}, {\"fullName\": \"Mohammed Sobh\", \"organizations\": \"\\u201cKhabar\\u201d News Agency\", \"location\": \"Israel and the Occupied Palestinian Territory\", \"status\": \"Killed\", \"typeOfDeath\": \"Dangerous Assignment\", \"Date\": \"2023-10-09T00:00:00\", \"mtpage\": \"https://cpj.org/data/people/mohammed-sobh/\", \"type\": \"Journalist\", \"motiveConfirmed\": \"Confirmed\", \"charges\": null, \"Year\": 2023}, {\"fullName\": \"Montaser Al-Sawaf\", \"organizations\": \"Anadolu Agency\", \"location\": \"Israel and the Occupied Palestinian Territory\", \"status\": \"Killed\", \"typeOfDeath\": \"Dangerous Assignment\", \"Date\": \"2023-12-01T00:00:00\", \"mtpage\": \"https://cpj.org/data/people/montaser-al-sawaf/\", \"type\": \"Journalist\", \"motiveConfirmed\": \"Confirmed\", \"charges\": null, \"Year\": 2023}, {\"fullName\": \"Mossab Ashour\", \"organizations\": \"Freelance\", \"location\": \"Israel and the Occupied Palestinian Territory\", \"status\": \"Killed\", \"typeOfDeath\": \"Dangerous Assignment\", \"Date\": \"2023-11-18T00:00:00\", \"mtpage\": \"https://cpj.org/data/people/mossab-ashour/\", \"type\": \"Journalist\", \"motiveConfirmed\": \"Confirmed\", \"charges\": null, \"Year\": 2023}, {\"fullName\": \"Mostafa Al Sawaf\", \"organizations\": \"MSDR News\", \"location\": \"Israel and the Occupied Palestinian Territory\", \"status\": \"Killed\", \"typeOfDeath\": \"Dangerous Assignment\", \"Date\": \"2023-11-18T00:00:00\", \"mtpage\": \"https://cpj.org/data/people/mostafa-al-sawaf/\", \"type\": \"Journalist\", \"motiveConfirmed\": \"Confirmed\", \"charges\": null, \"Year\": 2023}, {\"fullName\": \"Mostafa Bakeer\", \"organizations\": \"Al Aqsa TV\", \"location\": \"Israel and the Occupied Palestinian Territory\", \"status\": \"Killed\", \"typeOfDeath\": \"Dangerous Assignment\", \"Date\": \"2023-11-24T00:00:00\", \"mtpage\": \"https://cpj.org/data/people/mostafa-bakeer/\", \"type\": \"Journalist\", \"motiveConfirmed\": \"Confirmed\", \"charges\": null, \"Year\": 2023}, {\"fullName\": \"Moussa Al-Borsh\", \"organizations\": \"Namaa Radio\", \"location\": \"Israel and the Occupied Palestinian Territory\", \"status\": \"Killed\", \"typeOfDeath\": \"Dangerous Assignment\", \"Date\": \"2023-11-12T00:00:00\", \"mtpage\": \"https://cpj.org/data/people/moussa-al-borsh/\", \"type\": \"Journalist\", \"motiveConfirmed\": \"Confirmed\", \"charges\": null, \"Year\": 2023}, {\"fullName\": \"Muhammad al-Bishawi\", \"organizations\": \"Najah Press Office, IslamOnline\", \"location\": \"Israel and the Occupied Palestinian Territory\", \"status\": \"Killed\", \"typeOfDeath\": \"Crossfire\", \"Date\": \"2001-07-31T00:00:00\", \"mtpage\": \"https://cpj.org/data/people/muhammad-al-bishawi/\", \"type\": \"Journalist\", \"motiveConfirmed\": \"Confirmed\", \"charges\": null, \"Year\": 2001}, {\"fullName\": \"Muhammad Salama\", \"organizations\": \"Al Aqsa TV\", \"location\": \"Israel and the Occupied Palestinian Territory\", \"status\": \"Killed\", \"typeOfDeath\": \"Dangerous Assignment\", \"Date\": \"2024-03-05T00:00:00\", \"mtpage\": \"https://cpj.org/data/people/muhammad-salama/\", \"type\": \"Journalist\", \"motiveConfirmed\": \"Confirmed\", \"charges\": null, \"Year\": 2024}, {\"fullName\": \"Mustafa Ayyad\", \"organizations\": \"Freelance,Al Jazeera\", \"location\": \"Israel and the Occupied Palestinian Territory\", \"status\": \"Killed\", \"typeOfDeath\": \"Dangerous Assignment\", \"Date\": \"2024-05-06T00:00:00\", \"mtpage\": \"https://cpj.org/data/people/mustafa-ayyad/\", \"type\": \"Journalist\", \"motiveConfirmed\": \"Confirmed\", \"charges\": null, \"Year\": 2024}, {\"fullName\": \"Mustafa Bahr\", \"organizations\": \"Palestine Breaking News\", \"location\": \"Israel and the Occupied Palestinian Territory\", \"status\": \"Killed\", \"typeOfDeath\": \"Dangerous Assignment\", \"Date\": \"2024-03-31T00:00:00\", \"mtpage\": \"https://cpj.org/data/people/mustafa-bahr/\", \"type\": \"Journalist\", \"motiveConfirmed\": \"Confirmed\", \"charges\": null, \"Year\": 2024}, {\"fullName\": \"Mustafa Thuraya\", \"organizations\": \"Freelance\", \"location\": \"Israel and the Occupied Palestinian Territory\", \"status\": \"Killed\", \"typeOfDeath\": \"Murder\", \"Date\": \"2024-01-07T00:00:00\", \"mtpage\": \"https://cpj.org/data/people/mustafa-thuraya/\", \"type\": \"Journalist\", \"motiveConfirmed\": \"Confirmed\", \"charges\": null, \"Year\": 2024}, {\"fullName\": \"Nadia Emad Al Sayed\", \"organizations\": \"Freelance\", \"location\": \"Israel and the Occupied Palestinian Territory\", \"status\": \"Killed\", \"typeOfDeath\": \"Dangerous Assignment\", \"Date\": \"2024-10-27T00:00:00\", \"mtpage\": \"https://cpj.org/data/people/nadia-emad-al-sayed/\", \"type\": \"Journalist\", \"motiveConfirmed\": \"Confirmed\", \"charges\": null, \"Year\": 2024}, {\"fullName\": \"Nafez Abdel Jawad\", \"organizations\": \"Palestine TV\", \"location\": \"Israel and the Occupied Palestinian Territory\", \"status\": \"Killed\", \"typeOfDeath\": \"Dangerous Assignment\", \"Date\": \"2024-02-08T00:00:00\", \"mtpage\": \"https://cpj.org/data/people/nafez-abdel-jawad/\", \"type\": \"Journalist\", \"motiveConfirmed\": \"Confirmed\", \"charges\": null, \"Year\": 2024}, {\"fullName\": \"Nazih Darwazeh\", \"organizations\": \"APTN\", \"location\": \"Israel and the Occupied Palestinian Territory\", \"status\": \"Killed\", \"typeOfDeath\": \"Crossfire\", \"Date\": \"2003-04-19T00:00:00\", \"mtpage\": \"https://cpj.org/data/people/nazih-darwazeh/\", \"type\": \"Journalist\", \"motiveConfirmed\": \"Confirmed\", \"charges\": null, \"Year\": 2003}, {\"fullName\": \"Nour Abu Oweimer\", \"organizations\": \"Freelance\", \"location\": \"Israel and the Occupied Palestinian Territory\", \"status\": \"Killed\", \"typeOfDeath\": \"Dangerous Assignment\", \"Date\": \"2024-10-03T00:00:00\", \"mtpage\": \"https://cpj.org/data/people/nour-abu-oweimer/\", \"type\": \"Journalist\", \"motiveConfirmed\": \"Confirmed\", \"charges\": null, \"Year\": 2024}, {\"fullName\": \"Noureddine Abdo\", \"organizations\": \"Freelance\", \"location\": \"Israel and the Occupied Palestinian Territory\", \"status\": \"Killed\", \"typeOfDeath\": \"Dangerous Assignment\", \"Date\": \"2025-05-07T00:00:00\", \"mtpage\": \"https://cpj.org/data/people/noureddine-abdo/\", \"type\": \"Journalist\", \"motiveConfirmed\": \"Confirmed\", \"charges\": null, \"Year\": 2025}, {\"fullName\": \"Ola Al Dahdouh\", \"organizations\": \"Sawt al Watan\", \"location\": \"Israel and the Occupied Palestinian Territory\", \"status\": \"Killed\", \"typeOfDeath\": \"Dangerous Assignment\", \"Date\": \"2024-05-31T00:00:00\", \"mtpage\": \"https://cpj.org/data/people/ola-al-dahdouh/\", \"type\": \"Journalist\", \"motiveConfirmed\": \"Confirmed\", \"charges\": null, \"Year\": 2024}, {\"fullName\": \"Ola Atallah\", \"organizations\": \"Freelance\", \"location\": \"Israel and the Occupied Palestinian Territory\", \"status\": \"Killed\", \"typeOfDeath\": \"Dangerous Assignment\", \"Date\": \"2023-12-09T00:00:00\", \"mtpage\": \"https://cpj.org/data/people/ola-atallah/\", \"type\": \"Journalist\", \"motiveConfirmed\": \"Confirmed\", \"charges\": null, \"Year\": 2023}, {\"fullName\": \"Omar Al Dirawi\", \"organizations\": \"Fourth Estate\", \"location\": \"Israel and the Occupied Palestinian Territory\", \"status\": \"Killed\", \"typeOfDeath\": \"Dangerous Assignment\", \"Date\": \"2025-01-03T00:00:00\", \"mtpage\": \"https://cpj.org/data/people/omar-al-dirawi/\", \"type\": \"Journalist\", \"motiveConfirmed\": \"Confirmed\", \"charges\": null, \"Year\": 2025}, {\"fullName\": \"Raffaele Ciriello\", \"organizations\": \"Freelance\", \"location\": \"Israel and the Occupied Palestinian Territory\", \"status\": \"Killed\", \"typeOfDeath\": \"Crossfire\", \"Date\": \"2002-03-13T00:00:00\", \"mtpage\": \"https://cpj.org/data/people/raffaele-ciriello/\", \"type\": \"Journalist\", \"motiveConfirmed\": \"Confirmed\", \"charges\": null, \"Year\": 2002}, {\"fullName\": \"Rami Al Refee\", \"organizations\": \"Freelance\", \"location\": \"Israel and the Occupied Palestinian Territory\", \"status\": \"Killed\", \"typeOfDeath\": \"Murder\", \"Date\": \"2024-07-31T00:00:00\", \"mtpage\": \"https://cpj.org/data/people/rami-al-refee/\", \"type\": \"Journalist\", \"motiveConfirmed\": \"Confirmed\", \"charges\": null, \"Year\": 2024}, {\"fullName\": \"Rami Rayan\", \"organizations\": \"Palestine Network for Press and Media\", \"location\": \"Israel and the Occupied Palestinian Territory\", \"status\": \"Killed\", \"typeOfDeath\": \"Crossfire\", \"Date\": \"2014-07-30T00:00:00\", \"mtpage\": \"https://cpj.org/data/people/rami-rayan/\", \"type\": \"Journalist\", \"motiveConfirmed\": \"Confirmed\", \"charges\": null, \"Year\": 2014}, {\"fullName\": \"Rasheed Albably\", \"organizations\": \"Freelance\", \"location\": \"Israel and the Occupied Palestinian Territory\", \"status\": \"Killed\", \"typeOfDeath\": \"Dangerous Assignment\", \"Date\": \"2024-06-06T00:00:00\", \"mtpage\": \"https://cpj.org/data/people/rasheed-albably/\", \"type\": \"Journalist\", \"motiveConfirmed\": \"Confirmed\", \"charges\": null, \"Year\": 2024}, {\"fullName\": \"Rizq Al-Gharabli\", \"organizations\": \"Palestinian Information Center\", \"location\": \"Israel and the Occupied Palestinian Territory\", \"status\": \"Killed\", \"typeOfDeath\": \"Dangerous Assignment\", \"Date\": \"2024-02-06T00:00:00\", \"mtpage\": \"https://cpj.org/data/people/rizq-al-gharabli/\", \"type\": \"Journalist\", \"motiveConfirmed\": \"Confirmed\", \"charges\": null, \"Year\": 2024}, {\"fullName\": \"Roee Idan\", \"organizations\": \"Ynet\", \"location\": \"Israel and the Occupied Palestinian Territory\", \"status\": \"Killed\", \"typeOfDeath\": \"Dangerous Assignment\", \"Date\": \"2023-10-20T00:00:00\", \"mtpage\": \"https://cpj.org/data/people/roee-idan/\", \"type\": \"Journalist\", \"motiveConfirmed\": \"Confirmed\", \"charges\": null, \"Year\": 2023}, {\"fullName\": \"Roshdi Sarraj\", \"organizations\": \"Ain Media\", \"location\": \"Israel and the Occupied Palestinian Territory\", \"status\": \"Killed\", \"typeOfDeath\": \"Dangerous Assignment\", \"Date\": \"2023-10-22T00:00:00\", \"mtpage\": \"https://cpj.org/data/people/roshdi-sarraj/\", \"type\": \"Journalist\", \"motiveConfirmed\": \"Confirmed\", \"charges\": null, \"Year\": 2023}, {\"fullName\": \"Saadi Madoukh\", \"organizations\": \"Freelance\", \"location\": \"Israel and the Occupied Palestinian Territory\", \"status\": \"Killed\", \"typeOfDeath\": \"Dangerous Assignment\", \"Date\": \"2024-07-05T00:00:00\", \"mtpage\": \"https://cpj.org/data/people/saadi-madoukh/\", \"type\": \"Journalist\", \"motiveConfirmed\": \"Confirmed\", \"charges\": null, \"Year\": 2024}, {\"fullName\": \"Saed Abu Nabhan\", \"organizations\": \"Freelance\", \"location\": \"Israel and the Occupied Palestinian Territory\", \"status\": \"Killed\", \"typeOfDeath\": \"Dangerous Assignment\", \"Date\": \"2025-01-10T00:00:00\", \"mtpage\": \"https://cpj.org/data/people/saed-abu-nabhan/\", \"type\": \"Journalist\", \"motiveConfirmed\": \"Confirmed\", \"charges\": null, \"Year\": 2025}, {\"fullName\": \"Saed Al-Halabi\", \"organizations\": \"Al-Aqsa TV\", \"location\": \"Israel and the Occupied Palestinian Territory\", \"status\": \"Killed\", \"typeOfDeath\": \"Dangerous Assignment\", \"Date\": \"2023-10-25T00:00:00\", \"mtpage\": \"https://cpj.org/data/people/saed-al-halabi/\", \"type\": \"Journalist\", \"motiveConfirmed\": \"Confirmed\", \"charges\": null, \"Year\": 2023}, {\"fullName\": \"Saed Radwan\", \"organizations\": \"Al-Aqsa TV\", \"location\": \"Israel and the Occupied Palestinian Territory\", \"status\": \"Killed\", \"typeOfDeath\": \"Dangerous Assignment\", \"Date\": \"2024-10-27T00:00:00\", \"mtpage\": \"https://cpj.org/data/people/saed-radwan/\", \"type\": \"Journalist\", \"motiveConfirmed\": \"Confirmed\", \"charges\": null, \"Year\": 2024}, {\"fullName\": \"Saeed al-Taweel\", \"organizations\": \"Al-Khamsa News\", \"location\": \"Israel and the Occupied Palestinian Territory\", \"status\": \"Killed\", \"typeOfDeath\": \"Dangerous Assignment\", \"Date\": \"2023-10-09T00:00:00\", \"mtpage\": \"https://cpj.org/data/people/saeed-al-taweel/\", \"type\": \"Journalist\", \"motiveConfirmed\": \"Confirmed\", \"charges\": null, \"Year\": 2023}, {\"fullName\": \"Saher Akram Rayan\", \"organizations\": \"WAFA\", \"location\": \"Israel and the Occupied Palestinian Territory\", \"status\": \"Killed\", \"typeOfDeath\": \"Dangerous Assignment\", \"Date\": \"2024-03-25T00:00:00\", \"mtpage\": \"https://cpj.org/data/people/saher-akram-rayan/\", \"type\": \"Journalist\", \"motiveConfirmed\": \"Confirmed\", \"charges\": null, \"Year\": 2024}, {\"fullName\": \"Salam Mema\", \"organizations\": \"Palestinian Media Assembly\", \"location\": \"Israel and the Occupied Palestinian Territory\", \"status\": \"Killed\", \"typeOfDeath\": \"Dangerous Assignment\", \"Date\": \"2023-10-13T00:00:00\", \"mtpage\": \"https://cpj.org/data/people/salam-mema/\", \"type\": \"Journalist\", \"motiveConfirmed\": \"Confirmed\", \"charges\": null, \"Year\": 2023}, {\"fullName\": \"Sameeh Al-Nady\", \"organizations\": \"Al-Aqsa TV\", \"location\": \"Israel and the Occupied Palestinian Territory\", \"status\": \"Killed\", \"typeOfDeath\": \"Dangerous Assignment\", \"Date\": \"2023-10-18T00:00:00\", \"mtpage\": \"https://cpj.org/data/people/sameeh-al-nady/\", \"type\": \"Journalist\", \"motiveConfirmed\": \"Confirmed\", \"charges\": null, \"Year\": 2023}, {\"fullName\": \"Sameh al-Aryan\", \"organizations\": \"Al-Aqsa TV\", \"location\": \"Israel and the Occupied Palestinian Territory\", \"status\": \"Killed\", \"typeOfDeath\": \"Crossfire\", \"Date\": \"2014-07-30T00:00:00\", \"mtpage\": \"https://cpj.org/data/people/sameh-al-aryan/\", \"type\": \"Journalist\", \"motiveConfirmed\": \"Confirmed\", \"charges\": null, \"Year\": 2014}, {\"fullName\": \"Samer Abu Daqqa\", \"organizations\": \"Al-Jazeera Arabic\", \"location\": \"Israel and the Occupied Palestinian Territory\", \"status\": \"Killed\", \"typeOfDeath\": \"Dangerous Assignment\", \"Date\": \"2023-12-15T00:00:00\", \"mtpage\": \"https://cpj.org/data/people/samer-abu-daqqa/\", \"type\": \"Journalist\", \"motiveConfirmed\": \"Confirmed\", \"charges\": null, \"Year\": 2023}, {\"fullName\": \"Sari Mansour\", \"organizations\": \"Quds News Network\", \"location\": \"Israel and the Occupied Palestinian Territory\", \"status\": \"Killed\", \"typeOfDeath\": \"Dangerous Assignment\", \"Date\": \"2023-11-18T00:00:00\", \"mtpage\": \"https://cpj.org/data/people/sari-mansour/\", \"type\": \"Journalist\", \"motiveConfirmed\": \"Confirmed\", \"charges\": null, \"Year\": 2023}, {\"fullName\": \"Shaima El-Gazzar\", \"organizations\": \"Al-Majedat network\", \"location\": \"Israel and the Occupied Palestinian Territory\", \"status\": \"Killed\", \"typeOfDeath\": \"Dangerous Assignment\", \"Date\": \"2023-12-03T00:00:00\", \"mtpage\": \"https://cpj.org/data/people/shaima-el-gazzar/\", \"type\": \"Journalist\", \"motiveConfirmed\": \"Confirmed\", \"charges\": null, \"Year\": 2023}, {\"fullName\": \"Shareef Okasha\", \"organizations\": \"Freelance\", \"location\": \"Israel and the Occupied Palestinian Territory\", \"status\": \"Killed\", \"typeOfDeath\": \"Dangerous Assignment\", \"Date\": \"2024-01-10T00:00:00\", \"mtpage\": \"https://cpj.org/data/people/shareef-okasha/\", \"type\": \"Journalist\", \"motiveConfirmed\": \"Confirmed\", \"charges\": null, \"Year\": 2024}, {\"fullName\": \"Shireen Abu Akleh\", \"organizations\": \"Al-Jazeera\", \"location\": \"Israel and the Occupied Palestinian Territory\", \"status\": \"Killed\", \"typeOfDeath\": \"Murder\", \"Date\": \"2022-05-11T00:00:00\", \"mtpage\": \"https://cpj.org/data/people/shireen-abu-akleh/\", \"type\": \"Journalist\", \"motiveConfirmed\": \"Confirmed\", \"charges\": null, \"Year\": 2022}, {\"fullName\": \"Simone Camilli\", \"organizations\": \"The Associated Press\", \"location\": \"Israel and the Occupied Palestinian Territory\", \"status\": \"Killed\", \"typeOfDeath\": \"Crossfire\", \"Date\": \"2014-08-13T00:00:00\", \"mtpage\": \"https://cpj.org/data/people/simone-camilli/\", \"type\": \"Journalist\", \"motiveConfirmed\": \"Confirmed\", \"charges\": null, \"Year\": 2014}, {\"fullName\": \"Suleiman Abdul-Rahim al-Ashi\", \"organizations\": \"Palestine\", \"location\": \"Israel and the Occupied Palestinian Territory\", \"status\": \"Killed\", \"typeOfDeath\": \"Murder\", \"Date\": \"2007-05-13T00:00:00\", \"mtpage\": \"https://cpj.org/data/people/suleiman-abdul-rahim-al-ashi/\", \"type\": \"Journalist\", \"motiveConfirmed\": \"Confirmed\", \"charges\": null, \"Year\": 2007}, {\"fullName\": \"Tamim Abu Muammar\", \"organizations\": \"Palestinian Broadcasting Corporation\", \"location\": \"Israel and the Occupied Palestinian Territory\", \"status\": \"Killed\", \"typeOfDeath\": \"Dangerous Assignment\", \"Date\": \"2024-08-09T00:00:00\", \"mtpage\": \"https://cpj.org/data/people/tamim-abu-muammar/\", \"type\": \"Journalist\", \"motiveConfirmed\": \"Confirmed\", \"charges\": null, \"Year\": 2024}, {\"fullName\": \"Tarek El Sayed Abu Skheil\", \"organizations\": \"Al Quds\", \"location\": \"Israel and the Occupied Palestinian Territory\", \"status\": \"Killed\", \"typeOfDeath\": \"Dangerous Assignment\", \"Date\": \"2024-03-18T00:00:00\", \"mtpage\": \"https://cpj.org/data/people/tarek-el-sayed-abu-skheil/\", \"type\": \"Journalist\", \"motiveConfirmed\": \"Confirmed\", \"charges\": null, \"Year\": 2024}, {\"fullName\": \"Tareq AlSalhi\", \"organizations\": \"Gaza Live network\", \"location\": \"Israel and the Occupied Palestinian Territory\", \"status\": \"Killed\", \"typeOfDeath\": \"Dangerous Assignment\", \"Date\": \"2024-10-15T00:00:00\", \"mtpage\": \"https://cpj.org/data/people/tareq-alsalhi/\", \"type\": \"Journalist\", \"motiveConfirmed\": \"Confirmed\", \"charges\": null, \"Year\": 2024}, {\"fullName\": \"Tariq Al-Maidna\", \"organizations\": \"Freelance\", \"location\": \"Israel and the Occupied Palestinian Territory\", \"status\": \"Killed\", \"typeOfDeath\": \"Dangerous Assignment\", \"Date\": \"2024-01-29T00:00:00\", \"mtpage\": \"https://cpj.org/data/people/tariq-al-maidna/\", \"type\": \"Journalist\", \"motiveConfirmed\": \"Confirmed\", \"charges\": null, \"Year\": 2024}, {\"fullName\": \"Tasneem Bkheet\", \"organizations\": \"Al-Saada\", \"location\": \"Israel and the Occupied Palestinian Territory\", \"status\": \"Killed\", \"typeOfDeath\": \"Dangerous Assignment\", \"Date\": \"2023-10-24T00:00:00\", \"mtpage\": \"https://cpj.org/data/people/tasneem-bkheet/\", \"type\": \"Journalist\", \"motiveConfirmed\": \"Confirmed\", \"charges\": null, \"Year\": 2023}, {\"fullName\": \"Wafa Al-Udaini\", \"organizations\": \"Freelance\", \"location\": \"Israel and the Occupied Palestinian Territory\", \"status\": \"Killed\", \"typeOfDeath\": \"Dangerous Assignment\", \"Date\": \"2024-09-29T00:00:00\", \"mtpage\": \"https://cpj.org/data/people/wafa-al-udaini/\", \"type\": \"Journalist\", \"motiveConfirmed\": \"Confirmed\", \"charges\": null, \"Year\": 2024}, {\"fullName\": \"Wafaa Abu Dabaan\", \"organizations\": \"Freelance\", \"location\": \"Israel and the Occupied Palestinian Territory\", \"status\": \"Killed\", \"typeOfDeath\": \"Dangerous Assignment\", \"Date\": \"2024-07-06T00:00:00\", \"mtpage\": \"https://cpj.org/data/people/wafaa-abu-dabaan/\", \"type\": \"Journalist\", \"motiveConfirmed\": \"Confirmed\", \"charges\": null, \"Year\": 2024}, {\"fullName\": \"Yacoup Al-Borsh\", \"organizations\": \"Namaa Radio\", \"location\": \"Israel and the Occupied Palestinian Territory\", \"status\": \"Killed\", \"typeOfDeath\": \"Dangerous Assignment\", \"Date\": \"2023-11-13T00:00:00\", \"mtpage\": \"https://cpj.org/data/people/yacoup-al-borsh/\", \"type\": \"Journalist\", \"motiveConfirmed\": \"Confirmed\", \"charges\": null, \"Year\": 2023}, {\"fullName\": \"Yahya Abu Manih\", \"organizations\": \"Al-Aqsa Voice Radio\", \"location\": \"Israel and the Occupied Palestinian Territory\", \"status\": \"Killed\", \"typeOfDeath\": \"Dangerous Assignment\", \"Date\": \"2023-11-07T00:00:00\", \"mtpage\": \"https://cpj.org/data/people/yahya-abu-manih/\", \"type\": \"Journalist\", \"motiveConfirmed\": \"Confirmed\", \"charges\": null, \"Year\": 2023}, {\"fullName\": \"Yahya Sobeih\", \"organizations\": \"Freelance\", \"location\": \"Israel and the Occupied Palestinian Territory\", \"status\": \"Killed\", \"typeOfDeath\": \"Dangerous Assignment\", \"Date\": \"2025-05-07T00:00:00\", \"mtpage\": \"https://cpj.org/data/people/yahya-sobeih/\", \"type\": \"Journalist\", \"motiveConfirmed\": \"Confirmed\", \"charges\": null, \"Year\": 2025}, {\"fullName\": \"Yaniv Zohar\", \"organizations\": \"Israel Hayom\", \"location\": \"Israel and the Occupied Palestinian Territory\", \"status\": \"Killed\", \"typeOfDeath\": \"Dangerous Assignment\", \"Date\": \"2023-10-07T00:00:00\", \"mtpage\": \"https://cpj.org/data/people/yaniv-zohar/\", \"type\": \"Journalist\", \"motiveConfirmed\": \"Confirmed\", \"charges\": null, \"Year\": 2023}, {\"fullName\": \"Yaser Murtaja\", \"organizations\": \"Ain Media\", \"location\": \"Israel and the Occupied Palestinian Territory\", \"status\": \"Killed\", \"typeOfDeath\": \"Murder\", \"Date\": \"2018-04-07T00:00:00\", \"mtpage\": \"https://cpj.org/data/people/yaser-murtaja/\", \"type\": \"Journalist\", \"motiveConfirmed\": \"Confirmed\", \"charges\": null, \"Year\": 2018}, {\"fullName\": \"Yasser Abu Namous\", \"organizations\": \"Al-Sahel\", \"location\": \"Israel and the Occupied Palestinian Territory\", \"status\": \"Killed\", \"typeOfDeath\": \"Dangerous Assignment\", \"Date\": \"2023-10-27T00:00:00\", \"mtpage\": \"https://cpj.org/data/people/yasser-abu-namous/\", \"type\": \"Journalist\", \"motiveConfirmed\": \"Confirmed\", \"charges\": null, \"Year\": 2023}, {\"fullName\": \"Yasser Mamdouh El-Fady\", \"organizations\": \"Kan'an news agency\", \"location\": \"Israel and the Occupied Palestinian Territory\", \"status\": \"Killed\", \"typeOfDeath\": \"Dangerous Assignment\", \"Date\": \"2024-02-11T00:00:00\", \"mtpage\": \"https://cpj.org/data/people/yasser-mamdouh-el-fady/\", \"type\": \"Journalist\", \"motiveConfirmed\": \"Confirmed\", \"charges\": null, \"Year\": 2024}, {\"fullName\": \"Yazan al-Zuweidi\", \"organizations\": \"Al-Ghad\", \"location\": \"Israel and the Occupied Palestinian Territory\", \"status\": \"Killed\", \"typeOfDeath\": \"Dangerous Assignment\", \"Date\": \"2024-01-14T00:00:00\", \"mtpage\": \"https://cpj.org/data/people/yazan-al-zuweidi/\", \"type\": \"Journalist\", \"motiveConfirmed\": \"Confirmed\", \"charges\": null, \"Year\": 2024}, {\"fullName\": \"Yousef Maher Dawas\", \"organizations\": \"Freelance\", \"location\": \"Israel and the Occupied Palestinian Territory\", \"status\": \"Killed\", \"typeOfDeath\": \"Dangerous Assignment\", \"Date\": \"2023-10-14T00:00:00\", \"mtpage\": \"https://cpj.org/data/people/yousef-maher-dawas/\", \"type\": \"Journalist\", \"motiveConfirmed\": \"Confirmed\", \"charges\": null, \"Year\": 2023}, {\"fullName\": \"Zahraa Abu Skheil\", \"organizations\": \"Freelance\", \"location\": \"Israel and the Occupied Palestinian Territory\", \"status\": \"Killed\", \"typeOfDeath\": \"Dangerous Assignment\", \"Date\": \"2024-11-09T00:00:00\", \"mtpage\": \"https://cpj.org/data/people/zahraa-abu-skheil/\", \"type\": \"Journalist\", \"motiveConfirmed\": \"Confirmed\", \"charges\": null, \"Year\": 2024}, {\"fullName\": \"Zayd Abu Zayed\", \"organizations\": \"Quran Radio\", \"location\": \"Israel and the Occupied Palestinian Territory\", \"status\": \"Killed\", \"typeOfDeath\": \"Dangerous Assignment\", \"Date\": \"2024-02-15T00:00:00\", \"mtpage\": \"https://cpj.org/data/people/zayd-abu-zayed/\", \"type\": \"Journalist\", \"motiveConfirmed\": \"Confirmed\", \"charges\": null, \"Year\": 2024}]}}, {\"mode\": \"vega-lite\"});\n",
       "</script>"
      ],
      "text/plain": [
       "alt.Chart(...)"
      ]
     },
     "execution_count": 38,
     "metadata": {},
     "output_type": "execute_result"
    }
   ],
   "source": [
    "alt.Chart(filtered_cpj).transform_filter(\n",
    "    alt.datum.Entity != 'Global Journalist Deaths'\n",
    ").mark_circle(\n",
    "    opacity=0.8,\n",
    "    stroke='black',\n",
    "    strokeWidth=1,\n",
    "    strokeOpacity=0.4\n",
    ").encode(\n",
    "    alt.X('Year:T')\n",
    "        .title(None)\n",
    "        .scale(domain=['1992','1993', '1994', '1995', '1996', '1997', '1998', '1999',\n",
    "                      '2000', '2001', '2002', '2003', '2004', '2005', '2006', \n",
    "                      '2007', '2008', '2009', '2010', '2011', '2012', '2013',\n",
    "                      '2014', '2015', '2016', '2017', '2018', '2019', '2020',\n",
    "                      '2021', '2022', '2023', '2024', '2025']),\n",
    "    alt.Y('Entity:N')\n",
    "        .title(None)\n",
    "        .sort(field=\"Deaths\", op=\"sum\", order='descending'),\n",
    "    alt.Size('Deaths:Q')\n",
    "        .scale(range=[0, 2500])\n",
    "        .title('Deaths')\n",
    "        .legend(clipHeight=30, format='s'),\n",
    "    alt.Color('Entity:N').legend(None),\n",
    "    tooltip=[\n",
    "        \"Entity:N\",\n",
    "        alt.Tooltip(\"Year:T\", format='%Y'),\n",
    "        alt.Tooltip(\"Deaths:Q\", format='~s')\n",
    "    ],\n",
    ").properties(\n",
    "    width=450,\n",
    "    height=320,\n",
    "    title=alt.Title(\n",
    "        text=\"Global Journalist Deaths (1992-2025)\",\n",
    "        subtitle=\"The size of the bubble represents the total death count per year\",\n",
    "        anchor='start'\n",
    "    )\n",
    ").configure_axisY(\n",
    "    domain=False,\n",
    "    ticks=False,\n",
    "    offset=10\n",
    ").configure_axisX(\n",
    "    grid=False,\n",
    ").configure_view(\n",
    "    stroke=None\n",
    ")"
   ]
  },
  {
   "cell_type": "code",
   "execution_count": null,
   "metadata": {},
   "outputs": [],
   "source": []
  }
 ],
 "metadata": {
  "kernelspec": {
   "display_name": ".venv",
   "language": "python",
   "name": "python3"
  },
  "language_info": {
   "codemirror_mode": {
    "name": "ipython",
    "version": 3
   },
   "file_extension": ".py",
   "mimetype": "text/x-python",
   "name": "python",
   "nbconvert_exporter": "python",
   "pygments_lexer": "ipython3",
   "version": "3.13.3"
  }
 },
 "nbformat": 4,
 "nbformat_minor": 2
}
